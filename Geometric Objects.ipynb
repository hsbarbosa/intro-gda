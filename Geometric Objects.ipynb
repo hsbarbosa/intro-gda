{
 "cells": [
  {
   "cell_type": "markdown",
   "metadata": {},
   "source": [
    "## The python geospatial data stack\n",
    "\n",
    "### Shapely\n",
    "* Manipulation and analysis of geometric objects in the Cartesian plane.\n",
    "\n",
    "### Fiona\n",
    "* Read/write geospatial data files.\n",
    "\n",
    "### Geopandas\n",
    "* A pandas extension for geospatial data.\n",
    "* Geopandas depends on the other libraries. \n",
    "\n"
   ]
  },
  {
   "cell_type": "markdown",
   "metadata": {},
   "source": [
    "## First things, first\n",
    "Let's start installing the stack. Installing Geopandas should also install the other libraries.\n",
    "\n"
   ]
  },
  {
   "cell_type": "code",
   "execution_count": null,
   "metadata": {},
   "outputs": [],
   "source": [
    "!pip install geopandas "
   ]
  },
  {
   "cell_type": "markdown",
   "metadata": {},
   "source": [
    "# Geometric Objects\n",
    "Geometric objects are assumed to exissit in a cartesian space.\n",
    "\n",
    "Each geometric type will have a set of general attributes, methods and operations associated to it such as:\n",
    "### Properties\n",
    "* length\n",
    "* area\n",
    "\n",
    "### Transformations\n",
    "* Buffer\n",
    "* Centroid\n",
    "* Bounds\n",
    "___________________\n",
    "## Points\n",
    "We can use the class `Point` to create a dimensionless `(x,y)` or  `(x,y,z)` point in a cartesian space."
   ]
  },
  {
   "cell_type": "code",
   "execution_count": 3,
   "metadata": {},
   "outputs": [],
   "source": [
    "from shapely.geometry import Point"
   ]
  },
  {
   "cell_type": "code",
   "execution_count": 45,
   "metadata": {},
   "outputs": [
    {
     "data": {
      "image/svg+xml": [
       "<svg xmlns=\"http://www.w3.org/2000/svg\" xmlns:xlink=\"http://www.w3.org/1999/xlink\" width=\"100.0\" height=\"100.0\" viewBox=\"-1.0 -1.0 2.0 2.0\" preserveAspectRatio=\"xMinYMin meet\"><g transform=\"matrix(1,0,0,-1,0,0.0)\"><circle cx=\"0.0\" cy=\"0.0\" r=\"0.06\" stroke=\"#555555\" stroke-width=\"0.02\" fill=\"#66cc99\" opacity=\"0.6\" /></g></svg>"
      ],
      "text/plain": [
       "<shapely.geometry.point.Point at 0x7fbfc83b5588>"
      ]
     },
     "execution_count": 45,
     "metadata": {},
     "output_type": "execute_result"
    }
   ],
   "source": [
    "p1 = Point(0,0)\n",
    "p1"
   ]
  },
  {
   "cell_type": "markdown",
   "metadata": {},
   "source": [
    "A `Point` object is dimensionless."
   ]
  },
  {
   "cell_type": "code",
   "execution_count": 9,
   "metadata": {},
   "outputs": [
    {
     "data": {
      "text/plain": [
       "0.0"
      ]
     },
     "execution_count": 9,
     "metadata": {},
     "output_type": "execute_result"
    }
   ],
   "source": [
    "p1.length"
   ]
  },
  {
   "cell_type": "code",
   "execution_count": 10,
   "metadata": {},
   "outputs": [
    {
     "data": {
      "text/plain": [
       "0.0"
      ]
     },
     "execution_count": 10,
     "metadata": {},
     "output_type": "execute_result"
    }
   ],
   "source": [
    "p1.area"
   ]
  },
  {
   "cell_type": "markdown",
   "metadata": {},
   "source": [
    "_____________________\n",
    "## Lines\n",
    "Lines are 1D objects. We can use the class `LineString(p1,p2,...)`  to define a line segment or a concatenation of line segments connecting points `p1`, `p2`..."
   ]
  },
  {
   "cell_type": "code",
   "execution_count": 46,
   "metadata": {},
   "outputs": [],
   "source": [
    "from shapely.geometry import LineString"
   ]
  },
  {
   "cell_type": "code",
   "execution_count": 48,
   "metadata": {},
   "outputs": [
    {
     "data": {
      "image/svg+xml": [
       "<svg xmlns=\"http://www.w3.org/2000/svg\" xmlns:xlink=\"http://www.w3.org/1999/xlink\" width=\"100.0\" height=\"100.0\" viewBox=\"-0.04 -0.04 1.08 1.08\" preserveAspectRatio=\"xMinYMin meet\"><g transform=\"matrix(1,0,0,-1,0,1.0)\"><polyline fill=\"none\" stroke=\"#66cc99\" stroke-width=\"0.0216\" points=\"0.0,0.0 0.0,1.0 1.0,1.0 1.0,0.0\" opacity=\"0.8\" /></g></svg>"
      ],
      "text/plain": [
       "<shapely.geometry.linestring.LineString at 0x7fbfc83a3a58>"
      ]
     },
     "execution_count": 48,
     "metadata": {},
     "output_type": "execute_result"
    }
   ],
   "source": [
    "l1 = LineString([(0,0), (0,1),(1,1),(1,0)])\n",
    "l1"
   ]
  },
  {
   "cell_type": "markdown",
   "metadata": {},
   "source": [
    "A line string has a length."
   ]
  },
  {
   "cell_type": "code",
   "execution_count": 49,
   "metadata": {},
   "outputs": [
    {
     "data": {
      "text/plain": [
       "3.0"
      ]
     },
     "execution_count": 49,
     "metadata": {},
     "output_type": "execute_result"
    }
   ],
   "source": [
    "l1.length"
   ]
  },
  {
   "cell_type": "markdown",
   "metadata": {},
   "source": [
    "but not an area (since it is 1D)"
   ]
  },
  {
   "cell_type": "code",
   "execution_count": 50,
   "metadata": {},
   "outputs": [
    {
     "data": {
      "text/plain": [
       "0.0"
      ]
     },
     "execution_count": 50,
     "metadata": {},
     "output_type": "execute_result"
    }
   ],
   "source": [
    "l1.area"
   ]
  },
  {
   "cell_type": "markdown",
   "metadata": {},
   "source": [
    "___________\n",
    "## Polygons\n",
    "A Polygon is a 2D object defined by the a sequence of  points corresponding to the vertices of the shape. "
   ]
  },
  {
   "cell_type": "code",
   "execution_count": 51,
   "metadata": {},
   "outputs": [],
   "source": [
    "from shapely.geometry import Polygon"
   ]
  },
  {
   "cell_type": "code",
   "execution_count": 57,
   "metadata": {},
   "outputs": [
    {
     "data": {
      "image/svg+xml": [
       "<svg xmlns=\"http://www.w3.org/2000/svg\" xmlns:xlink=\"http://www.w3.org/1999/xlink\" width=\"100.0\" height=\"100.0\" viewBox=\"-0.04 -0.04 1.08 1.08\" preserveAspectRatio=\"xMinYMin meet\"><g transform=\"matrix(1,0,0,-1,0,1.0)\"><path fill-rule=\"evenodd\" fill=\"#66cc99\" stroke=\"#555555\" stroke-width=\"0.0216\" opacity=\"0.6\" d=\"M 0.0,0.0 L 0.0,1.0 L 1.0,1.0 L 1.0,0.0 L 0.0,0.0 z\" /></g></svg>"
      ],
      "text/plain": [
       "<shapely.geometry.polygon.Polygon at 0x7fbfc83ca358>"
      ]
     },
     "execution_count": 57,
     "metadata": {},
     "output_type": "execute_result"
    }
   ],
   "source": [
    "## A square of side 1\n",
    "pol1 = Polygon([(0,0), (0,1),(1,1),(1,0)])\n",
    "pol1"
   ]
  },
  {
   "cell_type": "markdown",
   "metadata": {},
   "source": [
    "As 2D objects, polygons have both length and area"
   ]
  },
  {
   "cell_type": "code",
   "execution_count": 55,
   "metadata": {},
   "outputs": [
    {
     "data": {
      "text/plain": [
       "4.0"
      ]
     },
     "execution_count": 55,
     "metadata": {},
     "output_type": "execute_result"
    }
   ],
   "source": [
    "pol1.length"
   ]
  },
  {
   "cell_type": "code",
   "execution_count": 56,
   "metadata": {},
   "outputs": [
    {
     "data": {
      "text/plain": [
       "1.0"
      ]
     },
     "execution_count": 56,
     "metadata": {},
     "output_type": "execute_result"
    }
   ],
   "source": [
    "pol1.area"
   ]
  },
  {
   "cell_type": "markdown",
   "metadata": {},
   "source": [
    "# Collections\n",
    "These geometries can also be represented as collections of geometries.\n",
    "For instance:\n",
    "* `MultiPolygon`\n",
    "* `MultiLineString` \n",
    "* `MultiPoint`\n"
   ]
  },
  {
   "cell_type": "code",
   "execution_count": 59,
   "metadata": {},
   "outputs": [],
   "source": [
    "from shapely.geometry import MultiPolygon, MultiLineString, MultiPoint"
   ]
  },
  {
   "cell_type": "markdown",
   "metadata": {},
   "source": [
    "### MultiPoint"
   ]
  },
  {
   "cell_type": "code",
   "execution_count": 68,
   "metadata": {},
   "outputs": [
    {
     "data": {
      "image/svg+xml": [
       "<svg xmlns=\"http://www.w3.org/2000/svg\" xmlns:xlink=\"http://www.w3.org/1999/xlink\" width=\"100.0\" height=\"100.0\" viewBox=\"-0.2 -0.2 1.4 5.4\" preserveAspectRatio=\"xMinYMin meet\"><g transform=\"matrix(1,0,0,-1,0,5.0)\"><g><circle cx=\"0.0\" cy=\"0.0\" r=\"0.16200000000000003\" stroke=\"#555555\" stroke-width=\"0.054000000000000006\" fill=\"#66cc99\" opacity=\"0.6\" /><circle cx=\"1.0\" cy=\"5.0\" r=\"0.16200000000000003\" stroke=\"#555555\" stroke-width=\"0.054000000000000006\" fill=\"#66cc99\" opacity=\"0.6\" /></g></g></svg>"
      ],
      "text/plain": [
       "<shapely.geometry.multipoint.MultiPoint at 0x7fbfc83a9128>"
      ]
     },
     "execution_count": 68,
     "metadata": {},
     "output_type": "execute_result"
    }
   ],
   "source": [
    "p2 = Point((1,5))\n",
    "mpoint = MultiPoint([p1,p2])\n",
    "mpoint"
   ]
  },
  {
   "cell_type": "code",
   "execution_count": 70,
   "metadata": {},
   "outputs": [
    {
     "data": {
      "image/svg+xml": [
       "<svg xmlns=\"http://www.w3.org/2000/svg\" xmlns:xlink=\"http://www.w3.org/1999/xlink\" width=\"100.0\" height=\"100.0\" viewBox=\"-0.12 -0.12 0.74 3.24\" preserveAspectRatio=\"xMinYMin meet\"><g transform=\"matrix(1,0,0,-1,0,3.0)\"><g><circle cx=\"0.0\" cy=\"0.0\" r=\"0.09720000000000001\" stroke=\"#555555\" stroke-width=\"0.032400000000000005\" fill=\"#66cc99\" opacity=\"0.6\" /><circle cx=\"0.0\" cy=\"1.0\" r=\"0.09720000000000001\" stroke=\"#555555\" stroke-width=\"0.032400000000000005\" fill=\"#66cc99\" opacity=\"0.6\" /><circle cx=\"0.0\" cy=\"2.0\" r=\"0.09720000000000001\" stroke=\"#555555\" stroke-width=\"0.032400000000000005\" fill=\"#66cc99\" opacity=\"0.6\" /><circle cx=\"0.5\" cy=\"3.0\" r=\"0.09720000000000001\" stroke=\"#555555\" stroke-width=\"0.032400000000000005\" fill=\"#66cc99\" opacity=\"0.6\" /></g></g></svg>"
      ],
      "text/plain": [
       "<shapely.geometry.multipoint.MultiPoint at 0x7fbfc83b5a90>"
      ]
     },
     "execution_count": 70,
     "metadata": {},
     "output_type": "execute_result"
    }
   ],
   "source": [
    "## You can also define it passing the coordinates to the constructor.\n",
    "mpoint2 = MultiPoint([(0,0), (0,1), (0,2), (0.5, 3)])\n",
    "mpoint2"
   ]
  },
  {
   "cell_type": "markdown",
   "metadata": {},
   "source": [
    "### MultiLineString"
   ]
  },
  {
   "cell_type": "code",
   "execution_count": 73,
   "metadata": {},
   "outputs": [
    {
     "data": {
      "image/svg+xml": [
       "<svg xmlns=\"http://www.w3.org/2000/svg\" xmlns:xlink=\"http://www.w3.org/1999/xlink\" width=\"100.0\" height=\"100.0\" viewBox=\"-0.12 -0.12 2.74 3.24\" preserveAspectRatio=\"xMinYMin meet\"><g transform=\"matrix(1,0,0,-1,0,3.0)\"><g><polyline fill=\"none\" stroke=\"#66cc99\" stroke-width=\"0.06480000000000001\" points=\"0.0,0.0 0.0,1.0\" opacity=\"0.8\" /><polyline fill=\"none\" stroke=\"#66cc99\" stroke-width=\"0.06480000000000001\" points=\"2.0,2.0 2.5,3.0\" opacity=\"0.8\" /></g></g></svg>"
      ],
      "text/plain": [
       "<shapely.geometry.multilinestring.MultiLineString at 0x7fbfa01f4668>"
      ]
     },
     "execution_count": 73,
     "metadata": {},
     "output_type": "execute_result"
    }
   ],
   "source": [
    "##                             line 1        line 2\n",
    "mline = MultiLineString([ [(0,0), (0,1)], [(2,2),(2.5,3)]  ] )\n",
    "mline"
   ]
  },
  {
   "cell_type": "markdown",
   "metadata": {},
   "source": [
    "### MultiPolygon"
   ]
  },
  {
   "cell_type": "code",
   "execution_count": 74,
   "metadata": {},
   "outputs": [
    {
     "data": {
      "image/svg+xml": [
       "<svg xmlns=\"http://www.w3.org/2000/svg\" xmlns:xlink=\"http://www.w3.org/1999/xlink\" width=\"100.0\" height=\"100.0\" viewBox=\"-0.24 -0.24 6.48 5.48\" preserveAspectRatio=\"xMinYMin meet\"><g transform=\"matrix(1,0,0,-1,0,5.0)\"><path fill-rule=\"evenodd\" fill=\"#66cc99\" stroke=\"#555555\" stroke-width=\"0.12960000000000002\" opacity=\"0.6\" d=\"M 0.0,4.0 L 1.0,5.0 L 6.0,0.0 L 0.0,4.0 z\" /></g></svg>"
      ],
      "text/plain": [
       "<shapely.geometry.polygon.Polygon at 0x7fbfa01f44a8>"
      ]
     },
     "execution_count": 74,
     "metadata": {},
     "output_type": "execute_result"
    }
   ],
   "source": [
    "pol2 = Polygon([(0,4), (1,5), (6,0)])\n",
    "pol2"
   ]
  },
  {
   "cell_type": "code",
   "execution_count": 75,
   "metadata": {},
   "outputs": [
    {
     "data": {
      "image/svg+xml": [
       "<svg xmlns=\"http://www.w3.org/2000/svg\" xmlns:xlink=\"http://www.w3.org/1999/xlink\" width=\"100.0\" height=\"100.0\" viewBox=\"-0.24 -0.24 6.48 5.48\" preserveAspectRatio=\"xMinYMin meet\"><g transform=\"matrix(1,0,0,-1,0,5.0)\"><g><path fill-rule=\"evenodd\" fill=\"#66cc99\" stroke=\"#555555\" stroke-width=\"0.12960000000000002\" opacity=\"0.6\" d=\"M 0.0,0.0 L 0.0,1.0 L 1.0,1.0 L 1.0,0.0 L 0.0,0.0 z\" /><path fill-rule=\"evenodd\" fill=\"#66cc99\" stroke=\"#555555\" stroke-width=\"0.12960000000000002\" opacity=\"0.6\" d=\"M 0.0,4.0 L 1.0,5.0 L 6.0,0.0 L 0.0,4.0 z\" /></g></g></svg>"
      ],
      "text/plain": [
       "<shapely.geometry.multipolygon.MultiPolygon at 0x7fbfa01f40f0>"
      ]
     },
     "execution_count": 75,
     "metadata": {},
     "output_type": "execute_result"
    }
   ],
   "source": [
    "\n",
    "mpol = MultiPolygon([pol1, pol2])\n",
    "mpol"
   ]
  },
  {
   "cell_type": "markdown",
   "metadata": {},
   "source": [
    "__________________________\n",
    "# Transformations"
   ]
  },
  {
   "cell_type": "markdown",
   "metadata": {},
   "source": [
    "### Centroid\n",
    "Returns a `Point` corresponding to the center  (i.e., mean coordinate   $(\\hat{x}, \\hat{y})$) of the object.\n",
    "\n"
   ]
  },
  {
   "cell_type": "code",
   "execution_count": 142,
   "metadata": {},
   "outputs": [
    {
     "data": {
      "image/svg+xml": [
       "<svg xmlns=\"http://www.w3.org/2000/svg\" xmlns:xlink=\"http://www.w3.org/1999/xlink\" width=\"100.0\" height=\"100.0\" viewBox=\"-0.24 -0.24 6.48 5.48\" preserveAspectRatio=\"xMinYMin meet\"><g transform=\"matrix(1,0,0,-1,0,5.0)\"><path fill-rule=\"evenodd\" fill=\"#66cc99\" stroke=\"#555555\" stroke-width=\"0.12960000000000002\" opacity=\"0.6\" d=\"M 0.0,4.0 L 1.0,5.0 L 6.0,0.0 L 0.0,4.0 z\" /></g></svg>"
      ],
      "text/plain": [
       "<shapely.geometry.polygon.Polygon at 0x7fbfa01f44a8>"
      ]
     },
     "execution_count": 142,
     "metadata": {},
     "output_type": "execute_result"
    }
   ],
   "source": [
    "pol2"
   ]
  },
  {
   "cell_type": "code",
   "execution_count": 136,
   "metadata": {},
   "outputs": [
    {
     "data": {
      "image/svg+xml": [
       "<svg xmlns=\"http://www.w3.org/2000/svg\" xmlns:xlink=\"http://www.w3.org/1999/xlink\" width=\"100.0\" height=\"100.0\" viewBox=\"1.333333333333333 2.0 2.0 2.0\" preserveAspectRatio=\"xMinYMin meet\"><g transform=\"matrix(1,0,0,-1,0,6.0)\"><circle cx=\"2.333333333333333\" cy=\"3.0\" r=\"0.06\" stroke=\"#555555\" stroke-width=\"0.02\" fill=\"#66cc99\" opacity=\"0.6\" /></g></svg>"
      ],
      "text/plain": [
       "<shapely.geometry.point.Point at 0x7fbfa02205f8>"
      ]
     },
     "execution_count": 136,
     "metadata": {},
     "output_type": "execute_result"
    }
   ],
   "source": [
    "pol2.centroid"
   ]
  },
  {
   "cell_type": "code",
   "execution_count": 141,
   "metadata": {},
   "outputs": [
    {
     "data": {
      "text/plain": [
       "[(2.333333333333333, 3.0)]"
      ]
     },
     "execution_count": 141,
     "metadata": {},
     "output_type": "execute_result"
    }
   ],
   "source": [
    "list(pol2.centroid.coords)"
   ]
  },
  {
   "cell_type": "markdown",
   "metadata": {},
   "source": [
    "### Buffer\n",
    "Returns an approximate representation of all points within a given distance of the this geometric object\n",
    "\n",
    "For a point `p`, `p.buffer(r)` creates a circle of radius `r` "
   ]
  },
  {
   "cell_type": "code",
   "execution_count": 41,
   "metadata": {},
   "outputs": [
    {
     "data": {
      "image/svg+xml": [
       "<svg xmlns=\"http://www.w3.org/2000/svg\" xmlns:xlink=\"http://www.w3.org/1999/xlink\" width=\"100.0\" height=\"100.0\" viewBox=\"-2.16 -2.16 4.32 4.32\" preserveAspectRatio=\"xMinYMin meet\"><g transform=\"matrix(1,0,0,-1,0,0.0)\"><path fill-rule=\"evenodd\" fill=\"#66cc99\" stroke=\"#555555\" stroke-width=\"0.0864\" opacity=\"0.6\" d=\"M 2.0,0.0 L 1.9903694533443939,-0.196034280659121 L 1.9615705608064609,-0.39018064403225616 L 1.9138806714644179,-0.5805693545089242 L 1.847759065022574,-0.7653668647301788 L 1.7638425286967105,-0.9427934736519944 L 1.6629392246050911,-1.1111404660392035 L 1.5460209067254749,-1.2687865683272899 L 1.4142135623730963,-1.414213562373094 L 1.2687865683272925,-1.5460209067254727 L 1.1111404660392064,-1.6629392246050894 L 0.9427934736519972,-1.763842528696709 L 0.7653668647301817,-1.8477590650225726 L 0.5805693545089271,-1.913880671464417 L 0.39018064403225927,-1.9615705608064604 L 0.19603428065912418,-1.9903694533443934 L 3.2310891488651735e-15,-2.0 L -0.19603428065911777,-1.990369453344394 L -0.39018064403225294,-1.9615705608064615 L -0.580569354508921,-1.913880671464419 L -0.7653668647301757,-1.847759065022575 L -0.9427934736519914,-1.763842528696712 L -1.1111404660392008,-1.662939224605093 L -1.2687865683272879,-1.5460209067254764 L -1.4142135623730923,-1.4142135623730978 L -1.5460209067254715,-1.2687865683272936 L -1.6629392246050887,-1.1111404660392072 L -1.7638425286967085,-0.9427934736519981 L -1.8477590650225724,-0.7653668647301822 L -1.913880671464417,-0.5805693545089272 L -1.9615705608064604,-0.39018064403225894 L -1.9903694533443936,-0.19603428065912343 L -2.0,-2.021286199229721e-15 L -1.9903694533443939,0.1960342806591194 L -1.9615705608064613,0.390180644032255 L -1.913880671464418,0.5805693545089234 L -1.847759065022574,0.7653668647301785 L -1.7638425286967105,0.9427934736519945 L -1.662939224605091,1.111140466039204 L -1.5460209067254742,1.2687865683272905 L -1.4142135623730954,1.414213562373095 L -1.2687865683272919,1.5460209067254733 L -1.111140466039206,1.6629392246050894 L -0.9427934736519973,1.763842528696709 L -0.7653668647301823,1.8477590650225724 L -0.5805693545089282,1.9138806714644168 L -0.3901806440322608,1.96157056080646 L -0.1960342806591262,1.9903694533443932 L -5.696464557944958e-15,2.0 L 0.19603428065911488,1.9903694533443943 L 0.3901806440322496,1.9615705608064622 L 0.5805693545089173,1.9138806714644199 L 0.7653668647301718,1.8477590650225768 L 0.9427934736519873,1.7638425286967143 L 1.1111404660391964,1.662939224605096 L 1.268786568327283,1.5460209067254804 L 1.4142135623730872,1.414213562373103 L 1.5460209067254664,1.2687865683273 L 1.6629392246050836,1.1111404660392148 L 1.7638425286967039,0.9427934736520068 L 1.8477590650225681,0.7653668647301922 L 1.9138806714644137,0.5805693545089385 L 1.961570560806458,0.3901806440322714 L 1.9903694533443923,0.19603428065913694 L 2.0,1.6477070274261195e-14 L 2.0,0.0 z\" /></g></svg>"
      ],
      "text/plain": [
       "<shapely.geometry.polygon.Polygon at 0x7fbfc83a3c50>"
      ]
     },
     "execution_count": 41,
     "metadata": {},
     "output_type": "execute_result"
    }
   ],
   "source": [
    "c1 = p1.buffer(2)\n",
    "c1"
   ]
  },
  {
   "cell_type": "markdown",
   "metadata": {},
   "source": [
    "This circle now has an area"
   ]
  },
  {
   "cell_type": "code",
   "execution_count": 39,
   "metadata": {},
   "outputs": [
    {
     "name": "stdout",
     "output_type": "stream",
     "text": [
      "12.546193962183755\n"
     ]
    }
   ],
   "source": [
    "print(c1.area)"
   ]
  },
  {
   "cell_type": "code",
   "execution_count": 40,
   "metadata": {},
   "outputs": [
    {
     "name": "stdout",
     "output_type": "stream",
     "text": [
      "12.561324627819017\n"
     ]
    }
   ],
   "source": [
    "print(c1.length)"
   ]
  },
  {
   "cell_type": "markdown",
   "metadata": {},
   "source": [
    "The `buffer` transformation can be applied to any geometry type"
   ]
  },
  {
   "cell_type": "markdown",
   "metadata": {},
   "source": [
    "#### LineString buffer"
   ]
  },
  {
   "cell_type": "code",
   "execution_count": 83,
   "metadata": {},
   "outputs": [
    {
     "data": {
      "image/svg+xml": [
       "<svg xmlns=\"http://www.w3.org/2000/svg\" xmlns:xlink=\"http://www.w3.org/1999/xlink\" width=\"100.0\" height=\"100.0\" viewBox=\"-0.04 -0.04 1.08 1.08\" preserveAspectRatio=\"xMinYMin meet\"><g transform=\"matrix(1,0,0,-1,0,1.0)\"><polyline fill=\"none\" stroke=\"#66cc99\" stroke-width=\"0.0216\" points=\"0.0,0.0 0.0,1.0 1.0,1.0 1.0,0.0\" opacity=\"0.8\" /></g></svg>"
      ],
      "text/plain": [
       "<shapely.geometry.linestring.LineString at 0x7fbfc83a3a58>"
      ]
     },
     "execution_count": 83,
     "metadata": {},
     "output_type": "execute_result"
    }
   ],
   "source": [
    "l1"
   ]
  },
  {
   "cell_type": "code",
   "execution_count": 82,
   "metadata": {},
   "outputs": [
    {
     "data": {
      "image/svg+xml": [
       "<svg xmlns=\"http://www.w3.org/2000/svg\" xmlns:xlink=\"http://www.w3.org/1999/xlink\" width=\"100.0\" height=\"100.0\" viewBox=\"-0.14800000000000002 -0.14800000000000002 1.2960000000000003 1.2960000000000003\" preserveAspectRatio=\"xMinYMin meet\"><g transform=\"matrix(1,0,0,-1,0,1.0)\"><path fill-rule=\"evenodd\" fill=\"#66cc99\" stroke=\"#555555\" stroke-width=\"0.025920000000000006\" opacity=\"0.6\" d=\"M -0.1,1.0 L -0.09951847266721969,1.009801714032956 L -0.09807852804032305,1.019509032201613 L -0.09569403357322089,1.0290284677254462 L -0.09238795325112868,1.038268343236509 L -0.0881921264348355,1.0471396736825997 L -0.08314696123025454,1.0555570233019602 L -0.0773010453362737,1.0634393284163646 L -0.07071067811865475,1.0707106781186548 L -0.06343932841636453,1.0773010453362737 L -0.0555570233019602,1.0831469612302547 L -0.047139673682599775,1.0881921264348355 L -0.038268343236508975,1.0923879532511287 L -0.029028467725446223,1.0956940335732208 L -0.019509032201612802,1.0980785280403231 L -0.009801714032956023,1.0995184726672198 L 0.0,1.1 L 1.0,1.1 L 1.009801714032956,1.0995184726672198 L 1.019509032201613,1.0980785280403231 L 1.0290284677254462,1.0956940335732208 L 1.038268343236509,1.0923879532511287 L 1.0471396736825997,1.0881921264348355 L 1.0555570233019602,1.0831469612302544 L 1.0634393284163646,1.0773010453362737 L 1.0707106781186548,1.0707106781186548 L 1.0773010453362737,1.0634393284163646 L 1.0831469612302544,1.0555570233019602 L 1.0881921264348355,1.0471396736825997 L 1.0923879532511287,1.038268343236509 L 1.0956940335732208,1.0290284677254462 L 1.0980785280403231,1.0195090322016127 L 1.0995184726672198,1.009801714032956 L 1.1,1.0 L 1.1,0.0 L 1.0995184726672196,-0.009801714032956203 L 1.0980785280403231,-0.019509032201612958 L 1.0956940335732208,-0.029028467725446358 L 1.0923879532511287,-0.03826834323650908 L 1.0881921264348355,-0.04713967368259986 L 1.0831469612302544,-0.0555570233019603 L 1.0773010453362737,-0.06343932841636461 L 1.0707106781186546,-0.0707106781186548 L 1.0634393284163646,-0.07730104533627373 L 1.0555570233019602,-0.08314696123025456 L 1.0471396736825997,-0.08819212643483552 L 1.038268343236509,-0.0923879532511287 L 1.0290284677254462,-0.0956940335732209 L 1.019509032201613,-0.09807852804032305 L 1.009801714032956,-0.09951847266721969 L 1.0,-0.1 L 0.990198285967044,-0.09951847266721969 L 0.9804909677983872,-0.09807852804032306 L 0.9709715322745538,-0.09569403357322091 L 0.961731656763491,-0.09238795325112871 L 0.9528603263174003,-0.08819212643483554 L 0.9444429766980399,-0.0831469612302546 L 0.9365606715836355,-0.0773010453362738 L 0.9292893218813454,-0.07071067811865489 L 0.9226989546637264,-0.06343932841636472 L 0.9168530387697456,-0.05555702330196043 L 0.9118078735651647,-0.047139673682600025 L 0.9076120467488714,-0.038268343236509274 L 0.9043059664267792,-0.02902846772544658 L 0.9019214719596771,-0.019509032201613208 L 0.9004815273327803,-0.00980171403295648 L 0.9,-4.563356778415362e-16 L 0.9,0.9 L 0.1,0.9 L 0.1,0.0 L 0.09951847266721968,-0.009801714032956203 L 0.09807852804032302,-0.019509032201612958 L 0.09569403357322086,-0.029028467725446358 L 0.09238795325112864,-0.03826834323650908 L 0.08819212643483547,-0.04713967368259986 L 0.08314696123025447,-0.0555570233019603 L 0.07730104533627365,-0.06343932841636461 L 0.07071067811865471,-0.0707106781186548 L 0.06343932841636452,-0.07730104533627373 L 0.0555570233019602,-0.08314696123025456 L 0.04713967368259974,-0.08819212643483552 L 0.03826834323650896,-0.0923879532511287 L 0.02902846772544623,-0.0956940335732209 L 0.019509032201612833,-0.09807852804032305 L 0.009801714032956078,-0.09951847266721969 L 2.8327694488239897e-17,-0.1 L -0.009801714032956023,-0.09951847266721969 L -0.019509032201612778,-0.09807852804032306 L -0.029028467725446178,-0.09569403357322091 L -0.03826834323650891,-0.09238795325112871 L -0.04713967368259969,-0.08819212643483554 L -0.05555702330196012,-0.0831469612302546 L -0.06343932841636443,-0.0773010453362738 L -0.07071067811865461,-0.07071067811865489 L -0.07730104533627356,-0.06343932841636472 L -0.08314696123025439,-0.05555702330196043 L -0.08819212643483537,-0.047139673682600025 L -0.09238795325112856,-0.038268343236509274 L -0.09569403357322079,-0.02902846772544658 L -0.09807852804032297,-0.019509032201613208 L -0.09951847266721965,-0.00980171403295648 L -0.1,-4.563356778415362e-16 L -0.1,1.0 z\" /></g></svg>"
      ],
      "text/plain": [
       "<shapely.geometry.polygon.Polygon at 0x7fbfc83b51d0>"
      ]
     },
     "execution_count": 82,
     "metadata": {},
     "output_type": "execute_result"
    }
   ],
   "source": [
    "l1.buffer(0.1)"
   ]
  },
  {
   "cell_type": "markdown",
   "metadata": {},
   "source": [
    "#### Polygon buffer"
   ]
  },
  {
   "cell_type": "code",
   "execution_count": 87,
   "metadata": {},
   "outputs": [
    {
     "data": {
      "image/svg+xml": [
       "<svg xmlns=\"http://www.w3.org/2000/svg\" xmlns:xlink=\"http://www.w3.org/1999/xlink\" width=\"100.0\" height=\"100.0\" viewBox=\"-0.04 -0.04 1.08 1.08\" preserveAspectRatio=\"xMinYMin meet\"><g transform=\"matrix(1,0,0,-1,0,1.0)\"><path fill-rule=\"evenodd\" fill=\"#66cc99\" stroke=\"#555555\" stroke-width=\"0.0216\" opacity=\"0.6\" d=\"M 0.0,0.0 L 0.0,1.0 L 1.0,1.0 L 1.0,0.0 L 0.0,0.0 z\" /></g></svg>"
      ],
      "text/plain": [
       "<shapely.geometry.polygon.Polygon at 0x7fbfc83ca358>"
      ]
     },
     "execution_count": 87,
     "metadata": {},
     "output_type": "execute_result"
    }
   ],
   "source": [
    "pol1"
   ]
  },
  {
   "cell_type": "code",
   "execution_count": 88,
   "metadata": {},
   "outputs": [
    {
     "data": {
      "image/svg+xml": [
       "<svg xmlns=\"http://www.w3.org/2000/svg\" xmlns:xlink=\"http://www.w3.org/1999/xlink\" width=\"100.0\" height=\"100.0\" viewBox=\"-0.58 -0.58 2.16 2.16\" preserveAspectRatio=\"xMinYMin meet\"><g transform=\"matrix(1,0,0,-1,0,1.0)\"><path fill-rule=\"evenodd\" fill=\"#66cc99\" stroke=\"#555555\" stroke-width=\"0.0432\" opacity=\"0.6\" d=\"M 0.0,-0.5 L -0.04900857016478332,-0.49759236333609813 L -0.09754516100806694,-0.49039264020161466 L -0.14514233862723375,-0.47847016786610364 L -0.19134171618254722,-0.4619397662556424 L -0.2356983684130009,-0.4409606321741764 L -0.277785116509803,-0.4157348061512714 L -0.31719664208182397,-0.38650522668136744 L -0.35355339059327495,-0.3535533905932726 L -0.38650522668136944,-0.31719664208182163 L -0.41573480615127334,-0.27778511650980003 L -0.440960632174178,-0.23569836841299785 L -0.46193976625564376,-0.191341716182544 L -0.47847016786610463,-0.14514233862723044 L -0.4903926402016153,-0.09754516100806353 L -0.49759236333609846,-0.04900857016477985 L -0.5,0.0 L -0.5,1.0 L -0.4975923633360984,1.0490085701647804 L -0.4903926402016152,1.0975451610080642 L -0.4784701678661044,1.1451423386272312 L -0.46193976625564337,1.1913417161825448 L -0.44096063217417747,1.235698368412999 L -0.4157348061512727,1.277785116509801 L -0.3865052266813685,1.3171966420818229 L -0.35355339059327373,1.3535533905932737 L -0.31719664208182263,1.3865052266813684 L -0.277785116509801,1.4157348061512727 L -0.23569836841299885,1.4409606321741775 L -0.19134171618254486,1.4619397662556435 L -0.1451423386272311,1.4784701678661045 L -0.097545161008064,1.4903926402016152 L -0.04900857016478011,1.4975923633360986 L 0.0,1.5 L 1.0,1.5 L 1.0490085701647804,1.4975923633360984 L 1.0975451610080642,1.4903926402016152 L 1.145142338627231,1.4784701678661045 L 1.1913417161825448,1.4619397662556435 L 1.235698368412999,1.4409606321741775 L 1.277785116509801,1.4157348061512725 L 1.3171966420818229,1.3865052266813684 L 1.3535533905932737,1.3535533905932737 L 1.3865052266813684,1.3171966420818229 L 1.4157348061512727,1.277785116509801 L 1.4409606321741775,1.235698368412999 L 1.4619397662556435,1.1913417161825448 L 1.4784701678661045,1.145142338627231 L 1.4903926402016152,1.097545161008064 L 1.4975923633360986,1.0490085701647802 L 1.5,1.0 L 1.5,0.0 L 1.4975923633360986,-0.0490085701647803 L 1.4903926402016152,-0.09754516100806412 L 1.4784701678661043,-0.14514233862723117 L 1.4619397662556435,-0.1913417161825449 L 1.4409606321741775,-0.23569836841299882 L 1.4157348061512727,-0.2777851165098011 L 1.3865052266813684,-0.31719664208182274 L 1.3535533905932737,-0.35355339059327373 L 1.3171966420818229,-0.38650522668136844 L 1.277785116509801,-0.41573480615127256 L 1.235698368412999,-0.44096063217417747 L 1.1913417161825448,-0.46193976625564337 L 1.145142338627231,-0.47847016786610447 L 1.097545161008064,-0.4903926402016152 L 1.0490085701647802,-0.49759236333609846 L 1.0,-0.5 L 0.0,-0.5 z\" /></g></svg>"
      ],
      "text/plain": [
       "<shapely.geometry.polygon.Polygon at 0x7fbfc83caf60>"
      ]
     },
     "execution_count": 88,
     "metadata": {},
     "output_type": "execute_result"
    }
   ],
   "source": [
    "pol1.buffer(0.5)"
   ]
  },
  {
   "cell_type": "markdown",
   "metadata": {},
   "source": [
    "### Boundary"
   ]
  },
  {
   "cell_type": "code",
   "execution_count": 90,
   "metadata": {},
   "outputs": [
    {
     "data": {
      "image/svg+xml": [
       "<svg xmlns=\"http://www.w3.org/2000/svg\" xmlns:xlink=\"http://www.w3.org/1999/xlink\" width=\"100.0\" height=\"100.0\" viewBox=\"-0.04 -0.04 1.08 1.08\" preserveAspectRatio=\"xMinYMin meet\"><g transform=\"matrix(1,0,0,-1,0,1.0)\"><polyline fill=\"none\" stroke=\"#66cc99\" stroke-width=\"0.0216\" points=\"0.0,0.0 0.0,1.0 1.0,1.0 1.0,0.0 0.0,0.0\" opacity=\"0.8\" /></g></svg>"
      ],
      "text/plain": [
       "<shapely.geometry.linestring.LineString at 0x7fbfa02116d8>"
      ]
     },
     "execution_count": 90,
     "metadata": {},
     "output_type": "execute_result"
    }
   ],
   "source": [
    "pol1.boundary"
   ]
  },
  {
   "cell_type": "code",
   "execution_count": 91,
   "metadata": {},
   "outputs": [
    {
     "data": {
      "image/svg+xml": [
       "<svg xmlns=\"http://www.w3.org/2000/svg\" xmlns:xlink=\"http://www.w3.org/1999/xlink\" width=\"100.0\" height=\"100.0\" viewBox=\"-0.24 -0.24 6.48 5.48\" preserveAspectRatio=\"xMinYMin meet\"><g transform=\"matrix(1,0,0,-1,0,5.0)\"><polyline fill=\"none\" stroke=\"#66cc99\" stroke-width=\"0.12960000000000002\" points=\"0.0,4.0 1.0,5.0 6.0,0.0 0.0,4.0\" opacity=\"0.8\" /></g></svg>"
      ],
      "text/plain": [
       "<shapely.geometry.linestring.LineString at 0x7fbfa0211a20>"
      ]
     },
     "execution_count": 91,
     "metadata": {},
     "output_type": "execute_result"
    }
   ],
   "source": [
    "pol2.boundary"
   ]
  },
  {
   "cell_type": "markdown",
   "metadata": {},
   "source": [
    "#### Question:\n",
    "What is the geometry type of the boundary of a polygon?"
   ]
  },
  {
   "cell_type": "markdown",
   "metadata": {},
   "source": [
    "## Binary operations\n",
    "### Distance\n",
    "Returns the minimum distance between two objects\n"
   ]
  },
  {
   "cell_type": "code",
   "execution_count": 150,
   "metadata": {},
   "outputs": [
    {
     "name": "stdout",
     "output_type": "stream",
     "text": [
      "[(0.0, 0.0)]\n",
      "[(1.0, 5.0)]\n"
     ]
    }
   ],
   "source": [
    "print(list(p1.coords))\n",
    "print(list(p2.coords))"
   ]
  },
  {
   "cell_type": "code",
   "execution_count": 151,
   "metadata": {},
   "outputs": [
    {
     "data": {
      "text/plain": [
       "5.0990195135927845"
      ]
     },
     "execution_count": 151,
     "metadata": {},
     "output_type": "execute_result"
    }
   ],
   "source": [
    "p1.distance(p2)"
   ]
  },
  {
   "cell_type": "markdown",
   "metadata": {},
   "source": [
    "Distance can be computed between any geometry types"
   ]
  },
  {
   "cell_type": "code",
   "execution_count": 187,
   "metadata": {},
   "outputs": [
    {
     "data": {
      "image/svg+xml": [
       "<svg xmlns=\"http://www.w3.org/2000/svg\" xmlns:xlink=\"http://www.w3.org/1999/xlink\" width=\"100.0\" height=\"100.0\" viewBox=\"-0.24 -0.24 6.48 5.48\" preserveAspectRatio=\"xMinYMin meet\"><g transform=\"matrix(1,0,0,-1,0,5.0)\"><g><path fill-rule=\"evenodd\" fill=\"#66cc99\" stroke=\"#555555\" stroke-width=\"0.12960000000000002\" opacity=\"0.6\" d=\"M 0.0,0.0 L 0.0,1.0 L 1.0,1.0 L 1.0,0.0 L 0.0,0.0 z\" /><path fill-rule=\"evenodd\" fill=\"#66cc99\" stroke=\"#555555\" stroke-width=\"0.12960000000000002\" opacity=\"0.6\" d=\"M 0.0,4.0 L 1.0,5.0 L 6.0,0.0 L 0.0,4.0 z\" /></g></g></svg>"
      ],
      "text/plain": [
       "<shapely.geometry.multipolygon.MultiPolygon at 0x7fbfa036d0b8>"
      ]
     },
     "execution_count": 187,
     "metadata": {},
     "output_type": "execute_result"
    }
   ],
   "source": [
    "MultiPolygon([pol1,pol2])"
   ]
  },
  {
   "cell_type": "code",
   "execution_count": 188,
   "metadata": {},
   "outputs": [
    {
     "data": {
      "text/plain": [
       "1.9414506867883017"
      ]
     },
     "execution_count": 188,
     "metadata": {},
     "output_type": "execute_result"
    }
   ],
   "source": [
    "pol1.distance(pol2)"
   ]
  },
  {
   "cell_type": "markdown",
   "metadata": {},
   "source": [
    "### Intersection"
   ]
  },
  {
   "cell_type": "code",
   "execution_count": 177,
   "metadata": {},
   "outputs": [
    {
     "data": {
      "image/svg+xml": [
       "<svg xmlns=\"http://www.w3.org/2000/svg\" xmlns:xlink=\"http://www.w3.org/1999/xlink\" width=\"100.0\" height=\"100.0\" viewBox=\"-4.52 -4.52 10.04 14.04\" preserveAspectRatio=\"xMinYMin meet\"><g transform=\"matrix(1,0,0,-1,0,5.0)\"><g><path fill-rule=\"evenodd\" fill=\"#ff3333\" stroke=\"#555555\" stroke-width=\"0.2808\" opacity=\"0.6\" d=\"M 4.0,0.0 L 3.9807389066887877,-0.392068561318242 L 3.9231411216129217,-0.7803612880645123 L 3.8277613429288357,-1.1611387090178484 L 3.695518130045148,-1.5307337294603576 L 3.527685057393421,-1.8855869473039888 L 3.3258784492101823,-2.222280932078407 L 3.0920418134509497,-2.5375731366545797 L 2.8284271247461925,-2.828427124746188 L 2.537573136654585,-3.0920418134509453 L 2.2222809320784127,-3.3258784492101787 L 1.8855869473039943,-3.527685057393418 L 1.5307337294603633,-3.695518130045145 L 1.1611387090178542,-3.827761342928834 L 0.7803612880645185,-3.923141121612921 L 0.39206856131824835,-3.980738906688787 L 6.462178297730347e-15,-4.0 L -0.39206856131823553,-3.980738906688788 L -0.7803612880645059,-3.923141121612923 L -1.161138709017842,-3.827761342928838 L -1.5307337294603514,-3.69551813004515 L -1.8855869473039828,-3.527685057393424 L -2.2222809320784016,-3.325878449210186 L -2.5375731366545757,-3.092041813450953 L -2.8284271247461845,-2.8284271247461956 L -3.092041813450943,-2.5375731366545873 L -3.3258784492101774,-2.2222809320784145 L -3.527685057393417,-1.8855869473039961 L -3.6955181300451447,-1.5307337294603645 L -3.827761342928834,-1.1611387090178544 L -3.923141121612921,-0.7803612880645179 L -3.9807389066887873,-0.39206856131824686 L -4.0,-4.042572398459442e-15 L -3.9807389066887877,0.3920685613182388 L -3.9231411216129226,0.78036128806451 L -3.827761342928836,1.1611387090178469 L -3.695518130045148,1.530733729460357 L -3.527685057393421,1.885586947303989 L -3.325878449210182,2.222280932078408 L -3.0920418134509484,2.537573136654581 L -2.8284271247461907,2.82842712474619 L -2.5375731366545837,3.0920418134509466 L -2.222280932078412,3.3258784492101787 L -1.8855869473039946,3.527685057393418 L -1.5307337294603647,3.6955181300451447 L -1.1611387090178564,3.8277613429288335 L -0.7803612880645217,3.92314112161292 L -0.3920685613182524,3.9807389066887864 L -1.1392929115889915e-14,4.0 L 0.39206856131822976,3.9807389066887886 L 0.7803612880644992,3.9231411216129244 L 1.1611387090178347,3.8277613429288397 L 1.5307337294603436,3.6955181300451536 L 1.8855869473039746,3.5276850573934286 L 2.2222809320783927,3.325878449210192 L 2.537573136654566,3.092041813450961 L 2.8284271247461743,2.828427124746206 L 3.092041813450933,2.5375731366546 L 3.325878449210167,2.2222809320784296 L 3.5276850573934078,1.8855869473040137 L 3.6955181300451363,1.5307337294603844 L 3.8277613429288273,1.161138709017877 L 3.923141121612916,0.7803612880645427 L 3.9807389066887846,0.3920685613182739 L 4.0,3.295414054852239e-14 L 4.0,0.0 z\" /><path fill-rule=\"evenodd\" fill=\"#ff3333\" stroke=\"#555555\" stroke-width=\"0.2808\" opacity=\"0.6\" d=\"M 5.0,5.0 L 4.980738906688788,4.607931438681758 L 4.923141121612922,4.219638711935488 L 4.827761342928836,3.838861290982152 L 4.695518130045148,3.4692662705396424 L 4.5276850573934215,3.114413052696011 L 4.325878449210182,2.777719067921593 L 4.092041813450949,2.4624268633454203 L 3.8284271247461925,2.171572875253812 L 3.537573136654585,1.9079581865490547 L 3.2222809320784127,1.6741215507898213 L 2.8855869473039943,1.472314942606582 L 2.5307337294603633,1.3044818699548548 L 2.1611387090178544,1.172238657071166 L 1.7803612880645185,1.0768588783870792 L 1.3920685613182484,1.0192610933112132 L 1.0000000000000064,1.0 L 0.6079314386817645,1.0192610933112118 L 0.2196387119354941,1.076858878387077 L -0.161138709017842,1.172238657071162 L -0.5307337294603514,1.30448186995485 L -0.8855869473039828,1.4723149426065758 L -1.2222809320784016,1.6741215507898142 L -1.5375731366545757,1.9079581865490471 L -1.8284271247461845,2.1715728752538044 L -2.092041813450943,2.4624268633454127 L -2.3258784492101774,2.7777190679215855 L -2.527685057393417,3.114413052696004 L -2.6955181300451447,3.4692662705396353 L -2.827761342928834,3.8388612909821456 L -2.923141121612921,4.219638711935482 L -2.9807389066887873,4.607931438681753 L -3.0,4.999999999999996 L -2.9807389066887877,5.392068561318239 L -2.9231411216129226,5.78036128806451 L -2.827761342928836,6.161138709017846 L -2.695518130045148,6.530733729460357 L -2.527685057393421,6.885586947303989 L -2.325878449210182,7.222280932078408 L -2.0920418134509484,7.537573136654581 L -1.8284271247461907,7.82842712474619 L -1.5375731366545837,8.092041813450948 L -1.2222809320784118,8.32587844921018 L -0.8855869473039946,8.527685057393418 L -0.5307337294603647,8.695518130045144 L -0.16113870901785643,8.827761342928834 L 0.21963871193547835,8.92314112161292 L 0.6079314386817476,8.980738906688787 L 0.9999999999999886,9.0 L 1.3920685613182298,8.980738906688789 L 1.7803612880644992,8.923141121612925 L 2.161138709017835,8.82776134292884 L 2.5307337294603434,8.695518130045153 L 2.885586947303975,8.527685057393429 L 3.2222809320783927,8.325878449210192 L 3.537573136654566,8.092041813450962 L 3.8284271247461743,7.828427124746206 L 4.092041813450933,7.537573136654601 L 4.325878449210167,7.22228093207843 L 4.527685057393407,6.885586947304014 L 4.695518130045136,6.530733729460384 L 4.827761342928827,6.161138709017877 L 4.923141121612916,5.780361288064543 L 4.980738906688785,5.392068561318274 L 5.0,5.000000000000033 L 5.0,5.0 z\" /></g></g></svg>"
      ],
      "text/plain": [
       "<shapely.geometry.multipolygon.MultiPolygon at 0x7fbf98103c50>"
      ]
     },
     "execution_count": 177,
     "metadata": {},
     "output_type": "execute_result"
    }
   ],
   "source": [
    "c1 = p1.buffer(4)\n",
    "c2 = p2.buffer(4)\n",
    "MultiPolygon([c1,c2])"
   ]
  },
  {
   "cell_type": "code",
   "execution_count": 178,
   "metadata": {},
   "outputs": [
    {
     "data": {
      "image/svg+xml": [
       "<svg xmlns=\"http://www.w3.org/2000/svg\" xmlns:xlink=\"http://www.w3.org/1999/xlink\" width=\"100.0\" height=\"100.0\" viewBox=\"-2.7631610969300686 0.7582843631903653 6.526322193860138 3.483431273619269\" preserveAspectRatio=\"xMinYMin meet\"><g transform=\"matrix(1,0,0,-1,0,5.0)\"><path fill-rule=\"evenodd\" fill=\"#66cc99\" stroke=\"#555555\" stroke-width=\"0.13052644387720277\" opacity=\"0.6\" d=\"M -2.5214454601204337,3.1040029135625975 L -2.222280932078412,3.3258784492101787 L -1.8855869473039946,3.527685057393418 L -1.5307337294603647,3.6955181300451447 L -1.1611387090178564,3.8277613429288335 L -0.7803612880645217,3.92314112161292 L -0.3920685613182524,3.9807389066887864 L -1.1392929115889915e-14,4.0 L 0.39206856131822976,3.9807389066887886 L 0.7803612880644992,3.9231411216129244 L 1.1611387090178347,3.8277613429288397 L 1.5307337294603436,3.6955181300451536 L 1.8855869473039746,3.5276850573934286 L 2.2222809320783927,3.325878449210192 L 2.537573136654566,3.092041813450961 L 2.8284271247461743,2.828427124746206 L 3.092041813450933,2.5375731366546 L 3.325878449210167,2.2222809320784296 L 3.5214454601204346,1.8959970864374032 L 3.2222809320784127,1.6741215507898213 L 2.8855869473039943,1.472314942606582 L 2.5307337294603633,1.3044818699548548 L 2.1611387090178544,1.172238657071166 L 1.7803612880645185,1.0768588783870792 L 1.3920685613182484,1.0192610933112132 L 1.0000000000000064,1.0 L 0.6079314386817645,1.0192610933112118 L 0.2196387119354941,1.076858878387077 L -0.161138709017842,1.172238657071162 L -0.5307337294603514,1.30448186995485 L -0.8855869473039828,1.4723149426065758 L -1.2222809320784016,1.6741215507898142 L -1.5375731366545757,1.9079581865490471 L -1.8284271247461845,2.1715728752538044 L -2.092041813450943,2.4624268633454127 L -2.3258784492101774,2.7777190679215855 L -2.5214454601204337,3.1040029135625975 z\" /></g></svg>"
      ],
      "text/plain": [
       "<shapely.geometry.polygon.Polygon at 0x7fbf98103b70>"
      ]
     },
     "execution_count": 178,
     "metadata": {},
     "output_type": "execute_result"
    }
   ],
   "source": [
    "c1.intersection(c2)"
   ]
  },
  {
   "cell_type": "markdown",
   "metadata": {},
   "source": [
    "### Difference"
   ]
  },
  {
   "cell_type": "code",
   "execution_count": 179,
   "metadata": {},
   "outputs": [
    {
     "data": {
      "image/svg+xml": [
       "<svg xmlns=\"http://www.w3.org/2000/svg\" xmlns:xlink=\"http://www.w3.org/1999/xlink\" width=\"100.0\" height=\"100.0\" viewBox=\"-4.32 -4.32 8.64 7.744002913562598\" preserveAspectRatio=\"xMinYMin meet\"><g transform=\"matrix(1,0,0,-1,0,-0.895997086437403)\"><path fill-rule=\"evenodd\" fill=\"#66cc99\" stroke=\"#555555\" stroke-width=\"0.1728\" opacity=\"0.6\" d=\"M 4.0,0.0 L 3.9807389066887877,-0.392068561318242 L 3.9231411216129217,-0.7803612880645123 L 3.8277613429288357,-1.1611387090178484 L 3.695518130045148,-1.5307337294603576 L 3.527685057393421,-1.8855869473039888 L 3.3258784492101823,-2.222280932078407 L 3.0920418134509497,-2.5375731366545797 L 2.8284271247461925,-2.828427124746188 L 2.537573136654585,-3.0920418134509453 L 2.2222809320784127,-3.3258784492101787 L 1.8855869473039943,-3.527685057393418 L 1.5307337294603633,-3.695518130045145 L 1.1611387090178542,-3.827761342928834 L 0.7803612880645185,-3.923141121612921 L 0.39206856131824835,-3.980738906688787 L 6.462178297730347e-15,-4.0 L -0.39206856131823553,-3.980738906688788 L -0.7803612880645059,-3.923141121612923 L -1.161138709017842,-3.827761342928838 L -1.5307337294603514,-3.69551813004515 L -1.8855869473039828,-3.527685057393424 L -2.2222809320784016,-3.325878449210186 L -2.5375731366545757,-3.092041813450953 L -2.8284271247461845,-2.8284271247461956 L -3.092041813450943,-2.5375731366545873 L -3.3258784492101774,-2.2222809320784145 L -3.527685057393417,-1.8855869473039961 L -3.6955181300451447,-1.5307337294603645 L -3.827761342928834,-1.1611387090178544 L -3.923141121612921,-0.7803612880645179 L -3.9807389066887873,-0.39206856131824686 L -4.0,-4.042572398459442e-15 L -3.9807389066887877,0.3920685613182388 L -3.9231411216129226,0.78036128806451 L -3.827761342928836,1.1611387090178469 L -3.695518130045148,1.530733729460357 L -3.527685057393421,1.885586947303989 L -3.325878449210182,2.222280932078408 L -3.0920418134509484,2.537573136654581 L -2.8284271247461907,2.82842712474619 L -2.5375731366545837,3.0920418134509466 L -2.5214454601204337,3.1040029135625975 L -2.3258784492101774,2.7777190679215855 L -2.092041813450943,2.4624268633454127 L -1.8284271247461845,2.1715728752538044 L -1.5375731366545757,1.9079581865490471 L -1.2222809320784016,1.6741215507898142 L -0.8855869473039828,1.4723149426065758 L -0.5307337294603514,1.30448186995485 L -0.161138709017842,1.172238657071162 L 0.2196387119354941,1.076858878387077 L 0.6079314386817645,1.0192610933112118 L 1.0000000000000064,1.0 L 1.3920685613182484,1.0192610933112132 L 1.7803612880645185,1.0768588783870792 L 2.1611387090178544,1.172238657071166 L 2.5307337294603633,1.3044818699548548 L 2.8855869473039943,1.472314942606582 L 3.2222809320784127,1.6741215507898213 L 3.5214454601204346,1.8959970864374032 L 3.5276850573934078,1.8855869473040137 L 3.6955181300451363,1.5307337294603844 L 3.8277613429288273,1.161138709017877 L 3.923141121612916,0.7803612880645427 L 3.9807389066887846,0.3920685613182739 L 4.0,3.295414054852239e-14 L 4.0,0.0 z\" /></g></svg>"
      ],
      "text/plain": [
       "<shapely.geometry.polygon.Polygon at 0x7fbf98103278>"
      ]
     },
     "execution_count": 179,
     "metadata": {},
     "output_type": "execute_result"
    }
   ],
   "source": [
    "c1.difference(c2)"
   ]
  },
  {
   "cell_type": "code",
   "execution_count": 180,
   "metadata": {},
   "outputs": [
    {
     "data": {
      "image/svg+xml": [
       "<svg xmlns=\"http://www.w3.org/2000/svg\" xmlns:xlink=\"http://www.w3.org/1999/xlink\" width=\"100.0\" height=\"100.0\" viewBox=\"-3.32 1.575997086437403 8.64 7.744002913562597\" preserveAspectRatio=\"xMinYMin meet\"><g transform=\"matrix(1,0,0,-1,0,10.895997086437404)\"><path fill-rule=\"evenodd\" fill=\"#66cc99\" stroke=\"#555555\" stroke-width=\"0.1728\" opacity=\"0.6\" d=\"M 5.0,5.0 L 4.980738906688788,4.607931438681758 L 4.923141121612922,4.219638711935488 L 4.827761342928836,3.838861290982152 L 4.695518130045148,3.4692662705396424 L 4.5276850573934215,3.114413052696011 L 4.325878449210182,2.777719067921593 L 4.092041813450949,2.4624268633454203 L 3.8284271247461925,2.171572875253812 L 3.537573136654585,1.9079581865490547 L 3.5214454601204346,1.8959970864374032 L 3.325878449210167,2.2222809320784296 L 3.092041813450933,2.5375731366546 L 2.8284271247461743,2.828427124746206 L 2.537573136654566,3.092041813450961 L 2.2222809320783927,3.325878449210192 L 1.8855869473039746,3.5276850573934286 L 1.5307337294603436,3.6955181300451536 L 1.1611387090178347,3.8277613429288397 L 0.7803612880644992,3.9231411216129244 L 0.39206856131822976,3.9807389066887886 L -1.1392929115889915e-14,4.0 L -0.3920685613182524,3.9807389066887864 L -0.7803612880645217,3.92314112161292 L -1.1611387090178564,3.8277613429288335 L -1.5307337294603647,3.6955181300451447 L -1.8855869473039946,3.527685057393418 L -2.222280932078412,3.3258784492101787 L -2.5214454601204337,3.1040029135625975 L -2.527685057393417,3.114413052696004 L -2.6955181300451447,3.4692662705396353 L -2.827761342928834,3.8388612909821456 L -2.923141121612921,4.219638711935482 L -2.9807389066887873,4.607931438681753 L -3.0,4.999999999999996 L -2.9807389066887877,5.392068561318239 L -2.9231411216129226,5.78036128806451 L -2.827761342928836,6.161138709017846 L -2.695518130045148,6.530733729460357 L -2.527685057393421,6.885586947303989 L -2.325878449210182,7.222280932078408 L -2.0920418134509484,7.537573136654581 L -1.8284271247461907,7.82842712474619 L -1.5375731366545837,8.092041813450948 L -1.2222809320784118,8.32587844921018 L -0.8855869473039946,8.527685057393418 L -0.5307337294603647,8.695518130045144 L -0.16113870901785643,8.827761342928834 L 0.21963871193547835,8.92314112161292 L 0.6079314386817476,8.980738906688787 L 0.9999999999999886,9.0 L 1.3920685613182298,8.980738906688789 L 1.7803612880644992,8.923141121612925 L 2.161138709017835,8.82776134292884 L 2.5307337294603434,8.695518130045153 L 2.885586947303975,8.527685057393429 L 3.2222809320783927,8.325878449210192 L 3.537573136654566,8.092041813450962 L 3.8284271247461743,7.828427124746206 L 4.092041813450933,7.537573136654601 L 4.325878449210167,7.22228093207843 L 4.527685057393407,6.885586947304014 L 4.695518130045136,6.530733729460384 L 4.827761342928827,6.161138709017877 L 4.923141121612916,5.780361288064543 L 4.980738906688785,5.392068561318274 L 5.0,5.000000000000033 L 5.0,5.0 z\" /></g></svg>"
      ],
      "text/plain": [
       "<shapely.geometry.polygon.Polygon at 0x7fbf886331d0>"
      ]
     },
     "execution_count": 180,
     "metadata": {},
     "output_type": "execute_result"
    }
   ],
   "source": [
    "c2.difference(c1)"
   ]
  },
  {
   "cell_type": "markdown",
   "metadata": {},
   "source": [
    "### Symmetric difference"
   ]
  },
  {
   "cell_type": "code",
   "execution_count": 181,
   "metadata": {},
   "outputs": [
    {
     "data": {
      "image/svg+xml": [
       "<svg xmlns=\"http://www.w3.org/2000/svg\" xmlns:xlink=\"http://www.w3.org/1999/xlink\" width=\"100.0\" height=\"100.0\" viewBox=\"-4.52 -4.52 10.04 14.04\" preserveAspectRatio=\"xMinYMin meet\"><g transform=\"matrix(1,0,0,-1,0,5.0)\"><g><path fill-rule=\"evenodd\" fill=\"#66cc99\" stroke=\"#555555\" stroke-width=\"0.2808\" opacity=\"0.6\" d=\"M 4.0,0.0 L 3.9807389066887877,-0.392068561318242 L 3.9231411216129217,-0.7803612880645123 L 3.8277613429288357,-1.1611387090178484 L 3.695518130045148,-1.5307337294603576 L 3.527685057393421,-1.8855869473039888 L 3.3258784492101823,-2.222280932078407 L 3.0920418134509497,-2.5375731366545797 L 2.8284271247461925,-2.828427124746188 L 2.537573136654585,-3.0920418134509453 L 2.2222809320784127,-3.3258784492101787 L 1.8855869473039943,-3.527685057393418 L 1.5307337294603633,-3.695518130045145 L 1.1611387090178542,-3.827761342928834 L 0.7803612880645185,-3.923141121612921 L 0.39206856131824835,-3.980738906688787 L 6.462178297730347e-15,-4.0 L -0.39206856131823553,-3.980738906688788 L -0.7803612880645059,-3.923141121612923 L -1.161138709017842,-3.827761342928838 L -1.5307337294603514,-3.69551813004515 L -1.8855869473039828,-3.527685057393424 L -2.2222809320784016,-3.325878449210186 L -2.5375731366545757,-3.092041813450953 L -2.8284271247461845,-2.8284271247461956 L -3.092041813450943,-2.5375731366545873 L -3.3258784492101774,-2.2222809320784145 L -3.527685057393417,-1.8855869473039961 L -3.6955181300451447,-1.5307337294603645 L -3.827761342928834,-1.1611387090178544 L -3.923141121612921,-0.7803612880645179 L -3.9807389066887873,-0.39206856131824686 L -4.0,-4.042572398459442e-15 L -3.9807389066887877,0.3920685613182388 L -3.9231411216129226,0.78036128806451 L -3.827761342928836,1.1611387090178469 L -3.695518130045148,1.530733729460357 L -3.527685057393421,1.885586947303989 L -3.325878449210182,2.222280932078408 L -3.0920418134509484,2.537573136654581 L -2.8284271247461907,2.82842712474619 L -2.5375731366545837,3.0920418134509466 L -2.5214454601204337,3.1040029135625975 L -2.3258784492101774,2.7777190679215855 L -2.092041813450943,2.4624268633454127 L -1.8284271247461845,2.1715728752538044 L -1.5375731366545757,1.9079581865490471 L -1.2222809320784016,1.6741215507898142 L -0.8855869473039828,1.4723149426065758 L -0.5307337294603514,1.30448186995485 L -0.161138709017842,1.172238657071162 L 0.2196387119354941,1.076858878387077 L 0.6079314386817645,1.0192610933112118 L 1.0000000000000064,1.0 L 1.3920685613182484,1.0192610933112132 L 1.7803612880645185,1.0768588783870792 L 2.1611387090178544,1.172238657071166 L 2.5307337294603633,1.3044818699548548 L 2.8855869473039943,1.472314942606582 L 3.2222809320784127,1.6741215507898213 L 3.5214454601204346,1.8959970864374032 L 3.5276850573934078,1.8855869473040137 L 3.6955181300451363,1.5307337294603844 L 3.8277613429288273,1.161138709017877 L 3.923141121612916,0.7803612880645427 L 3.9807389066887846,0.3920685613182739 L 4.0,3.295414054852239e-14 L 4.0,0.0 z\" /><path fill-rule=\"evenodd\" fill=\"#66cc99\" stroke=\"#555555\" stroke-width=\"0.2808\" opacity=\"0.6\" d=\"M 3.5214454601204346,1.8959970864374032 L 3.325878449210167,2.2222809320784296 L 3.092041813450933,2.5375731366546 L 2.8284271247461743,2.828427124746206 L 2.537573136654566,3.092041813450961 L 2.2222809320783927,3.325878449210192 L 1.8855869473039746,3.5276850573934286 L 1.5307337294603436,3.6955181300451536 L 1.1611387090178347,3.8277613429288397 L 0.7803612880644992,3.9231411216129244 L 0.39206856131822976,3.9807389066887886 L -1.1392929115889915e-14,4.0 L -0.3920685613182524,3.9807389066887864 L -0.7803612880645217,3.92314112161292 L -1.1611387090178564,3.8277613429288335 L -1.5307337294603647,3.6955181300451447 L -1.8855869473039946,3.527685057393418 L -2.222280932078412,3.3258784492101787 L -2.5214454601204337,3.1040029135625975 L -2.527685057393417,3.114413052696004 L -2.6955181300451447,3.4692662705396353 L -2.827761342928834,3.8388612909821456 L -2.923141121612921,4.219638711935482 L -2.9807389066887873,4.607931438681753 L -3.0,4.999999999999996 L -2.9807389066887877,5.392068561318239 L -2.9231411216129226,5.78036128806451 L -2.827761342928836,6.161138709017846 L -2.695518130045148,6.530733729460357 L -2.527685057393421,6.885586947303989 L -2.325878449210182,7.222280932078408 L -2.0920418134509484,7.537573136654581 L -1.8284271247461907,7.82842712474619 L -1.5375731366545837,8.092041813450948 L -1.2222809320784118,8.32587844921018 L -0.8855869473039946,8.527685057393418 L -0.5307337294603647,8.695518130045144 L -0.16113870901785643,8.827761342928834 L 0.21963871193547835,8.92314112161292 L 0.6079314386817476,8.980738906688787 L 0.9999999999999886,9.0 L 1.3920685613182298,8.980738906688789 L 1.7803612880644992,8.923141121612925 L 2.161138709017835,8.82776134292884 L 2.5307337294603434,8.695518130045153 L 2.885586947303975,8.527685057393429 L 3.2222809320783927,8.325878449210192 L 3.537573136654566,8.092041813450962 L 3.8284271247461743,7.828427124746206 L 4.092041813450933,7.537573136654601 L 4.325878449210167,7.22228093207843 L 4.527685057393407,6.885586947304014 L 4.695518130045136,6.530733729460384 L 4.827761342928827,6.161138709017877 L 4.923141121612916,5.780361288064543 L 4.980738906688785,5.392068561318274 L 5.0,5.000000000000033 L 5.0,5.0 L 4.980738906688788,4.607931438681758 L 4.923141121612922,4.219638711935488 L 4.827761342928836,3.838861290982152 L 4.695518130045148,3.4692662705396424 L 4.5276850573934215,3.114413052696011 L 4.325878449210182,2.777719067921593 L 4.092041813450949,2.4624268633454203 L 3.8284271247461925,2.171572875253812 L 3.537573136654585,1.9079581865490547 L 3.5214454601204346,1.8959970864374032 z\" /></g></g></svg>"
      ],
      "text/plain": [
       "<shapely.geometry.multipolygon.MultiPolygon at 0x7fbf88633400>"
      ]
     },
     "execution_count": 181,
     "metadata": {},
     "output_type": "execute_result"
    }
   ],
   "source": [
    "c1.symmetric_difference(c2)"
   ]
  },
  {
   "cell_type": "markdown",
   "metadata": {},
   "source": [
    "# Relationships"
   ]
  },
  {
   "cell_type": "markdown",
   "metadata": {},
   "source": [
    "#### Equals\n",
    "Returns `True` if the set-theoretic boundary, interior, and exterior of the object coincide with those of the other."
   ]
  },
  {
   "cell_type": "code",
   "execution_count": 189,
   "metadata": {},
   "outputs": [
    {
     "data": {
      "text/plain": [
       "True"
      ]
     },
     "execution_count": 189,
     "metadata": {},
     "output_type": "execute_result"
    }
   ],
   "source": [
    "p1.equals(p1)"
   ]
  },
  {
   "cell_type": "code",
   "execution_count": 190,
   "metadata": {},
   "outputs": [
    {
     "data": {
      "text/plain": [
       "True"
      ]
     },
     "execution_count": 190,
     "metadata": {},
     "output_type": "execute_result"
    }
   ],
   "source": [
    "Point(0,0).equals(Point(0,0))"
   ]
  },
  {
   "cell_type": "code",
   "execution_count": 191,
   "metadata": {},
   "outputs": [
    {
     "data": {
      "text/plain": [
       "False"
      ]
     },
     "execution_count": 191,
     "metadata": {},
     "output_type": "execute_result"
    }
   ],
   "source": [
    "p1.equals(p2)"
   ]
  },
  {
   "cell_type": "markdown",
   "metadata": {},
   "source": [
    "#### Contains\n",
    "Returns `True` if no points of other lie in the exterior of the object and at least one point of the interior of other lies in the interior of object."
   ]
  },
  {
   "cell_type": "code",
   "execution_count": 192,
   "metadata": {},
   "outputs": [
    {
     "data": {
      "image/svg+xml": [
       "<svg xmlns=\"http://www.w3.org/2000/svg\" xmlns:xlink=\"http://www.w3.org/1999/xlink\" width=\"100.0\" height=\"100.0\" viewBox=\"-5.4 -5.4 10.8 10.8\" preserveAspectRatio=\"xMinYMin meet\"><g transform=\"matrix(1,0,0,-1,0,0.0)\"><g><path fill-rule=\"evenodd\" fill=\"#ff3333\" stroke=\"#555555\" stroke-width=\"0.21600000000000003\" opacity=\"0.6\" d=\"M 3.0,0.0 L 2.9855541800165906,-0.29405142098868153 L 2.9423558412096913,-0.5852709660483842 L 2.8708210071966267,-0.8708540317633864 L 2.771638597533861,-1.1480502970952682 L 2.6457637930450657,-1.4141902104779915 L 2.4944088369076365,-1.6667106990588052 L 2.3190313600882124,-1.903179852490935 L 2.1213203435596446,-2.121320343559641 L 1.903179852490939,-2.319031360088209 L 1.6667106990588096,-2.494408836907634 L 1.4141902104779958,-2.6457637930450635 L 1.1480502970952724,-2.771638597533859 L 0.8708540317633906,-2.8708210071966254 L 0.5852709660483889,-2.9423558412096904 L 0.29405142098868625,-2.98555418001659 L 4.84663372329776e-15,-3.0 L -0.29405142098867665,-2.985554180016591 L -0.5852709660483795,-2.942355841209692 L -0.8708540317633815,-2.8708210071966285 L -1.1480502970952635,-2.7716385975338627 L -1.414190210477987,-2.6457637930450684 L -1.6667106990588012,-2.494408836907639 L -1.9031798524909318,-2.3190313600882146 L -2.1213203435596384,-2.121320343559647 L -2.319031360088207,-1.9031798524909405 L -2.494408836907633,-1.666710699058811 L -2.645763793045063,-1.414190210477997 L -2.7716385975338587,-1.1480502970952733 L -2.8708210071966254,-0.8708540317633908 L -2.9423558412096904,-0.5852709660483884 L -2.9855541800165906,-0.29405142098868514 L -3.0,-3.031929298844582e-15 L -2.9855541800165906,0.2940514209886791 L -2.942355841209692,0.5852709660483825 L -2.870821007196627,0.8708540317633852 L -2.771638597533861,1.1480502970952677 L -2.6457637930450657,1.4141902104779918 L -2.4944088369076365,1.6667106990588059 L -2.3190313600882115,1.9031798524909358 L -2.121320343559643,2.1213203435596424 L -1.9031798524909378,2.3190313600882098 L -1.6667106990588088,2.494408836907634 L -1.414190210477996,2.6457637930450635 L -1.1480502970952735,2.7716385975338587 L -0.8708540317633924,2.870821007196625 L -0.5852709660483912,2.94235584120969 L -0.2940514209886893,2.9855541800165897 L -8.544696836917437e-15,3.0 L 0.2940514209886723,2.9855541800165915 L 0.5852709660483744,2.942355841209693 L 0.870854031763376,2.87082100719663 L 1.1480502970952577,2.7716385975338653 L 1.4141902104779809,2.6457637930450715 L 1.6667106990587945,2.494408836907644 L 1.9031798524909245,2.3190313600882204 L 2.121320343559631,2.1213203435596544 L 2.3190313600881995,1.90317985249095 L 2.4944088369076254,1.666710699058822 L 2.645763793045056,1.4141902104780102 L 2.771638597533852,1.1480502970952884 L 2.8708210071966205,0.8708540317634078 L 2.942355841209687,0.585270966048407 L 2.9855541800165883,0.2940514209887054 L 3.0,2.4715605411391792e-14 L 3.0,0.0 z\" /><path fill-rule=\"evenodd\" fill=\"#ff3333\" stroke=\"#555555\" stroke-width=\"0.21600000000000003\" opacity=\"0.6\" d=\"M 5.0,0.0 L 4.975923633360985,-0.4900857016478025 L 4.903926402016152,-0.9754516100806404 L 4.784701678661045,-1.4514233862723105 L 4.619397662556435,-1.913417161825447 L 4.4096063217417765,-2.356983684129986 L 4.157348061512728,-2.7778511650980087 L 3.865052266813687,-3.1719664208182246 L 3.5355339059327404,-3.535533905932735 L 3.171966420818231,-3.8650522668136817 L 2.7778511650980158,-4.157348061512724 L 2.356983684129993,-4.409606321741773 L 1.9134171618254543,-4.619397662556431 L 1.4514233862723178,-4.784701678661042 L 0.9754516100806482,-4.903926402016151 L 0.49008570164781046,-4.975923633360983 L 8.077722872162934e-15,-5.0 L -0.4900857016477944,-4.975923633360985 L -0.9754516100806323,-4.903926402016154 L -1.4514233862723025,-4.7847016786610475 L -1.9134171618254392,-4.6193976625564375 L -2.3569836841299785,-4.40960632174178 L -2.777851165098002,-4.1573480615127325 L -3.1719664208182197,-3.865052266813691 L -3.5355339059327306,-3.5355339059327444 L -3.865052266813679,-3.171966420818234 L -4.157348061512722,-2.777851165098018 L -4.409606321741771,-2.356983684129995 L -4.619397662556431,-1.9134171618254556 L -4.784701678661042,-1.451423386272318 L -4.903926402016151,-0.9754516100806474 L -4.975923633360984,-0.49008570164780857 L -5.0,-5.053215498074303e-15 L -4.975923633360985,0.4900857016477985 L -4.903926402016153,0.9754516100806375 L -4.784701678661046,1.4514233862723085 L -4.619397662556435,1.913417161825446 L -4.4096063217417765,2.356983684129986 L -4.157348061512727,2.77785116509801 L -3.8650522668136853,3.1719664208182263 L -3.5355339059327386,3.5355339059327373 L -3.1719664208182294,3.8650522668136835 L -2.777851165098015,4.157348061512724 L -2.356983684129993,4.409606321741773 L -1.9134171618254558,4.619397662556431 L -1.4514233862723205,4.784701678661042 L -0.9754516100806521,4.90392640201615 L -0.4900857016478155,4.975923633360983 L -1.4241161394862395e-14,5.0 L 0.4900857016477872,4.975923633360986 L 0.9754516100806241,4.903926402016156 L 1.4514233862722934,4.784701678661049 L 1.9134171618254294,4.619397662556442 L 2.3569836841299683,4.409606321741785 L 2.777851165097991,4.1573480615127405 L 3.1719664208182072,3.8650522668137013 L 3.5355339059327178,3.5355339059327573 L 3.865052266813666,3.1719664208182503 L 4.1573480615127085,2.777851165098037 L 4.40960632174176,2.356983684130017 L 4.619397662556421,1.9134171618254805 L 4.784701678661034,1.4514233862723462 L 4.903926402016145,0.9754516100806785 L 4.97592363336098,0.4900857016478424 L 5.0,4.119267568565299e-14 L 5.0,0.0 z\" /></g></g></svg>"
      ],
      "text/plain": [
       "<shapely.geometry.multipolygon.MultiPolygon at 0x7fbf88633940>"
      ]
     },
     "execution_count": 192,
     "metadata": {},
     "output_type": "execute_result"
    }
   ],
   "source": [
    "c3 = p1.buffer(3)\n",
    "c4 = p1.buffer(5)\n",
    "MultiPolygon([c3,c4])"
   ]
  },
  {
   "cell_type": "code",
   "execution_count": 193,
   "metadata": {},
   "outputs": [
    {
     "data": {
      "text/plain": [
       "False"
      ]
     },
     "execution_count": 193,
     "metadata": {},
     "output_type": "execute_result"
    }
   ],
   "source": [
    "c3.contains(c4)"
   ]
  },
  {
   "cell_type": "code",
   "execution_count": 194,
   "metadata": {},
   "outputs": [
    {
     "data": {
      "text/plain": [
       "True"
      ]
     },
     "execution_count": 194,
     "metadata": {},
     "output_type": "execute_result"
    }
   ],
   "source": [
    "c4.contains(c3)"
   ]
  },
  {
   "cell_type": "markdown",
   "metadata": {},
   "source": [
    "#### Overlaps\n",
    "Returns `True` if the geometries have more than one **but not all points in common**, have the same dimension, **and the intersection of the interiors of the geometries has the same dimension as the geometries themselves.**"
   ]
  },
  {
   "cell_type": "code",
   "execution_count": 195,
   "metadata": {},
   "outputs": [
    {
     "data": {
      "text/plain": [
       "False"
      ]
     },
     "execution_count": 195,
     "metadata": {},
     "output_type": "execute_result"
    }
   ],
   "source": [
    "c3.overlaps(c4)"
   ]
  },
  {
   "cell_type": "code",
   "execution_count": 197,
   "metadata": {},
   "outputs": [
    {
     "data": {
      "image/svg+xml": [
       "<svg xmlns=\"http://www.w3.org/2000/svg\" xmlns:xlink=\"http://www.w3.org/1999/xlink\" width=\"100.0\" height=\"100.0\" viewBox=\"-4.52 -4.52 10.04 14.04\" preserveAspectRatio=\"xMinYMin meet\"><g transform=\"matrix(1,0,0,-1,0,5.0)\"><g><path fill-rule=\"evenodd\" fill=\"#ff3333\" stroke=\"#555555\" stroke-width=\"0.2808\" opacity=\"0.6\" d=\"M 4.0,0.0 L 3.9807389066887877,-0.392068561318242 L 3.9231411216129217,-0.7803612880645123 L 3.8277613429288357,-1.1611387090178484 L 3.695518130045148,-1.5307337294603576 L 3.527685057393421,-1.8855869473039888 L 3.3258784492101823,-2.222280932078407 L 3.0920418134509497,-2.5375731366545797 L 2.8284271247461925,-2.828427124746188 L 2.537573136654585,-3.0920418134509453 L 2.2222809320784127,-3.3258784492101787 L 1.8855869473039943,-3.527685057393418 L 1.5307337294603633,-3.695518130045145 L 1.1611387090178542,-3.827761342928834 L 0.7803612880645185,-3.923141121612921 L 0.39206856131824835,-3.980738906688787 L 6.462178297730347e-15,-4.0 L -0.39206856131823553,-3.980738906688788 L -0.7803612880645059,-3.923141121612923 L -1.161138709017842,-3.827761342928838 L -1.5307337294603514,-3.69551813004515 L -1.8855869473039828,-3.527685057393424 L -2.2222809320784016,-3.325878449210186 L -2.5375731366545757,-3.092041813450953 L -2.8284271247461845,-2.8284271247461956 L -3.092041813450943,-2.5375731366545873 L -3.3258784492101774,-2.2222809320784145 L -3.527685057393417,-1.8855869473039961 L -3.6955181300451447,-1.5307337294603645 L -3.827761342928834,-1.1611387090178544 L -3.923141121612921,-0.7803612880645179 L -3.9807389066887873,-0.39206856131824686 L -4.0,-4.042572398459442e-15 L -3.9807389066887877,0.3920685613182388 L -3.9231411216129226,0.78036128806451 L -3.827761342928836,1.1611387090178469 L -3.695518130045148,1.530733729460357 L -3.527685057393421,1.885586947303989 L -3.325878449210182,2.222280932078408 L -3.0920418134509484,2.537573136654581 L -2.8284271247461907,2.82842712474619 L -2.5375731366545837,3.0920418134509466 L -2.222280932078412,3.3258784492101787 L -1.8855869473039946,3.527685057393418 L -1.5307337294603647,3.6955181300451447 L -1.1611387090178564,3.8277613429288335 L -0.7803612880645217,3.92314112161292 L -0.3920685613182524,3.9807389066887864 L -1.1392929115889915e-14,4.0 L 0.39206856131822976,3.9807389066887886 L 0.7803612880644992,3.9231411216129244 L 1.1611387090178347,3.8277613429288397 L 1.5307337294603436,3.6955181300451536 L 1.8855869473039746,3.5276850573934286 L 2.2222809320783927,3.325878449210192 L 2.537573136654566,3.092041813450961 L 2.8284271247461743,2.828427124746206 L 3.092041813450933,2.5375731366546 L 3.325878449210167,2.2222809320784296 L 3.5276850573934078,1.8855869473040137 L 3.6955181300451363,1.5307337294603844 L 3.8277613429288273,1.161138709017877 L 3.923141121612916,0.7803612880645427 L 3.9807389066887846,0.3920685613182739 L 4.0,3.295414054852239e-14 L 4.0,0.0 z\" /><path fill-rule=\"evenodd\" fill=\"#ff3333\" stroke=\"#555555\" stroke-width=\"0.2808\" opacity=\"0.6\" d=\"M 5.0,5.0 L 4.980738906688788,4.607931438681758 L 4.923141121612922,4.219638711935488 L 4.827761342928836,3.838861290982152 L 4.695518130045148,3.4692662705396424 L 4.5276850573934215,3.114413052696011 L 4.325878449210182,2.777719067921593 L 4.092041813450949,2.4624268633454203 L 3.8284271247461925,2.171572875253812 L 3.537573136654585,1.9079581865490547 L 3.2222809320784127,1.6741215507898213 L 2.8855869473039943,1.472314942606582 L 2.5307337294603633,1.3044818699548548 L 2.1611387090178544,1.172238657071166 L 1.7803612880645185,1.0768588783870792 L 1.3920685613182484,1.0192610933112132 L 1.0000000000000064,1.0 L 0.6079314386817645,1.0192610933112118 L 0.2196387119354941,1.076858878387077 L -0.161138709017842,1.172238657071162 L -0.5307337294603514,1.30448186995485 L -0.8855869473039828,1.4723149426065758 L -1.2222809320784016,1.6741215507898142 L -1.5375731366545757,1.9079581865490471 L -1.8284271247461845,2.1715728752538044 L -2.092041813450943,2.4624268633454127 L -2.3258784492101774,2.7777190679215855 L -2.527685057393417,3.114413052696004 L -2.6955181300451447,3.4692662705396353 L -2.827761342928834,3.8388612909821456 L -2.923141121612921,4.219638711935482 L -2.9807389066887873,4.607931438681753 L -3.0,4.999999999999996 L -2.9807389066887877,5.392068561318239 L -2.9231411216129226,5.78036128806451 L -2.827761342928836,6.161138709017846 L -2.695518130045148,6.530733729460357 L -2.527685057393421,6.885586947303989 L -2.325878449210182,7.222280932078408 L -2.0920418134509484,7.537573136654581 L -1.8284271247461907,7.82842712474619 L -1.5375731366545837,8.092041813450948 L -1.2222809320784118,8.32587844921018 L -0.8855869473039946,8.527685057393418 L -0.5307337294603647,8.695518130045144 L -0.16113870901785643,8.827761342928834 L 0.21963871193547835,8.92314112161292 L 0.6079314386817476,8.980738906688787 L 0.9999999999999886,9.0 L 1.3920685613182298,8.980738906688789 L 1.7803612880644992,8.923141121612925 L 2.161138709017835,8.82776134292884 L 2.5307337294603434,8.695518130045153 L 2.885586947303975,8.527685057393429 L 3.2222809320783927,8.325878449210192 L 3.537573136654566,8.092041813450962 L 3.8284271247461743,7.828427124746206 L 4.092041813450933,7.537573136654601 L 4.325878449210167,7.22228093207843 L 4.527685057393407,6.885586947304014 L 4.695518130045136,6.530733729460384 L 4.827761342928827,6.161138709017877 L 4.923141121612916,5.780361288064543 L 4.980738906688785,5.392068561318274 L 5.0,5.000000000000033 L 5.0,5.0 z\" /></g></g></svg>"
      ],
      "text/plain": [
       "<shapely.geometry.multipolygon.MultiPolygon at 0x7fbf885be5f8>"
      ]
     },
     "execution_count": 197,
     "metadata": {},
     "output_type": "execute_result"
    }
   ],
   "source": [
    "MultiPolygon([c1,c2])"
   ]
  },
  {
   "cell_type": "code",
   "execution_count": 198,
   "metadata": {},
   "outputs": [
    {
     "data": {
      "text/plain": [
       "True"
      ]
     },
     "execution_count": 198,
     "metadata": {},
     "output_type": "execute_result"
    }
   ],
   "source": [
    "c1.overlaps(c2)"
   ]
  },
  {
   "cell_type": "markdown",
   "metadata": {},
   "source": [
    "#### Intersects\n",
    "Returns `True` if the boundary or interior of the object **intersect in any way** with those of the other."
   ]
  },
  {
   "cell_type": "code",
   "execution_count": 199,
   "metadata": {},
   "outputs": [
    {
     "data": {
      "text/plain": [
       "True"
      ]
     },
     "execution_count": 199,
     "metadata": {},
     "output_type": "execute_result"
    }
   ],
   "source": [
    "c3.intersects(c4)"
   ]
  },
  {
   "cell_type": "code",
   "execution_count": 200,
   "metadata": {},
   "outputs": [
    {
     "data": {
      "text/plain": [
       "True"
      ]
     },
     "execution_count": 200,
     "metadata": {},
     "output_type": "execute_result"
    }
   ],
   "source": [
    "c4.intersects(c3)"
   ]
  },
  {
   "cell_type": "code",
   "execution_count": 201,
   "metadata": {},
   "outputs": [
    {
     "data": {
      "text/plain": [
       "True"
      ]
     },
     "execution_count": 201,
     "metadata": {},
     "output_type": "execute_result"
    }
   ],
   "source": [
    "c1.intersects(c2)"
   ]
  },
  {
   "cell_type": "code",
   "execution_count": 202,
   "metadata": {},
   "outputs": [
    {
     "data": {
      "image/svg+xml": [
       "<svg xmlns=\"http://www.w3.org/2000/svg\" xmlns:xlink=\"http://www.w3.org/1999/xlink\" width=\"100.0\" height=\"100.0\" viewBox=\"-0.24 -0.24 6.48 5.48\" preserveAspectRatio=\"xMinYMin meet\"><g transform=\"matrix(1,0,0,-1,0,5.0)\"><g><path fill-rule=\"evenodd\" fill=\"#66cc99\" stroke=\"#555555\" stroke-width=\"0.12960000000000002\" opacity=\"0.6\" d=\"M 0.0,0.0 L 0.0,1.0 L 1.0,1.0 L 1.0,0.0 L 0.0,0.0 z\" /><path fill-rule=\"evenodd\" fill=\"#66cc99\" stroke=\"#555555\" stroke-width=\"0.12960000000000002\" opacity=\"0.6\" d=\"M 0.0,4.0 L 1.0,5.0 L 6.0,0.0 L 0.0,4.0 z\" /></g></g></svg>"
      ],
      "text/plain": [
       "<shapely.geometry.multipolygon.MultiPolygon at 0x7fbf885be208>"
      ]
     },
     "execution_count": 202,
     "metadata": {},
     "output_type": "execute_result"
    }
   ],
   "source": [
    "MultiPolygon([pol1,pol2])"
   ]
  },
  {
   "cell_type": "code",
   "execution_count": 203,
   "metadata": {},
   "outputs": [
    {
     "data": {
      "text/plain": [
       "False"
      ]
     },
     "execution_count": 203,
     "metadata": {},
     "output_type": "execute_result"
    }
   ],
   "source": [
    "pol1.intersects(pol2)"
   ]
  },
  {
   "cell_type": "markdown",
   "metadata": {},
   "source": [
    "#### Crosses\n",
    "Returns `True` if the **interior of the object intersects** the interior of the other **but does not contain it**, and **the dimension of the intersection is less than the dimension of the one or the other**."
   ]
  },
  {
   "cell_type": "code",
   "execution_count": 204,
   "metadata": {},
   "outputs": [
    {
     "data": {
      "image/svg+xml": [
       "<svg xmlns=\"http://www.w3.org/2000/svg\" xmlns:xlink=\"http://www.w3.org/1999/xlink\" width=\"100.0\" height=\"100.0\" viewBox=\"-4.52 -4.52 10.04 14.04\" preserveAspectRatio=\"xMinYMin meet\"><g transform=\"matrix(1,0,0,-1,0,5.0)\"><g><path fill-rule=\"evenodd\" fill=\"#ff3333\" stroke=\"#555555\" stroke-width=\"0.2808\" opacity=\"0.6\" d=\"M 4.0,0.0 L 3.9807389066887877,-0.392068561318242 L 3.9231411216129217,-0.7803612880645123 L 3.8277613429288357,-1.1611387090178484 L 3.695518130045148,-1.5307337294603576 L 3.527685057393421,-1.8855869473039888 L 3.3258784492101823,-2.222280932078407 L 3.0920418134509497,-2.5375731366545797 L 2.8284271247461925,-2.828427124746188 L 2.537573136654585,-3.0920418134509453 L 2.2222809320784127,-3.3258784492101787 L 1.8855869473039943,-3.527685057393418 L 1.5307337294603633,-3.695518130045145 L 1.1611387090178542,-3.827761342928834 L 0.7803612880645185,-3.923141121612921 L 0.39206856131824835,-3.980738906688787 L 6.462178297730347e-15,-4.0 L -0.39206856131823553,-3.980738906688788 L -0.7803612880645059,-3.923141121612923 L -1.161138709017842,-3.827761342928838 L -1.5307337294603514,-3.69551813004515 L -1.8855869473039828,-3.527685057393424 L -2.2222809320784016,-3.325878449210186 L -2.5375731366545757,-3.092041813450953 L -2.8284271247461845,-2.8284271247461956 L -3.092041813450943,-2.5375731366545873 L -3.3258784492101774,-2.2222809320784145 L -3.527685057393417,-1.8855869473039961 L -3.6955181300451447,-1.5307337294603645 L -3.827761342928834,-1.1611387090178544 L -3.923141121612921,-0.7803612880645179 L -3.9807389066887873,-0.39206856131824686 L -4.0,-4.042572398459442e-15 L -3.9807389066887877,0.3920685613182388 L -3.9231411216129226,0.78036128806451 L -3.827761342928836,1.1611387090178469 L -3.695518130045148,1.530733729460357 L -3.527685057393421,1.885586947303989 L -3.325878449210182,2.222280932078408 L -3.0920418134509484,2.537573136654581 L -2.8284271247461907,2.82842712474619 L -2.5375731366545837,3.0920418134509466 L -2.222280932078412,3.3258784492101787 L -1.8855869473039946,3.527685057393418 L -1.5307337294603647,3.6955181300451447 L -1.1611387090178564,3.8277613429288335 L -0.7803612880645217,3.92314112161292 L -0.3920685613182524,3.9807389066887864 L -1.1392929115889915e-14,4.0 L 0.39206856131822976,3.9807389066887886 L 0.7803612880644992,3.9231411216129244 L 1.1611387090178347,3.8277613429288397 L 1.5307337294603436,3.6955181300451536 L 1.8855869473039746,3.5276850573934286 L 2.2222809320783927,3.325878449210192 L 2.537573136654566,3.092041813450961 L 2.8284271247461743,2.828427124746206 L 3.092041813450933,2.5375731366546 L 3.325878449210167,2.2222809320784296 L 3.5276850573934078,1.8855869473040137 L 3.6955181300451363,1.5307337294603844 L 3.8277613429288273,1.161138709017877 L 3.923141121612916,0.7803612880645427 L 3.9807389066887846,0.3920685613182739 L 4.0,3.295414054852239e-14 L 4.0,0.0 z\" /><path fill-rule=\"evenodd\" fill=\"#ff3333\" stroke=\"#555555\" stroke-width=\"0.2808\" opacity=\"0.6\" d=\"M 5.0,5.0 L 4.980738906688788,4.607931438681758 L 4.923141121612922,4.219638711935488 L 4.827761342928836,3.838861290982152 L 4.695518130045148,3.4692662705396424 L 4.5276850573934215,3.114413052696011 L 4.325878449210182,2.777719067921593 L 4.092041813450949,2.4624268633454203 L 3.8284271247461925,2.171572875253812 L 3.537573136654585,1.9079581865490547 L 3.2222809320784127,1.6741215507898213 L 2.8855869473039943,1.472314942606582 L 2.5307337294603633,1.3044818699548548 L 2.1611387090178544,1.172238657071166 L 1.7803612880645185,1.0768588783870792 L 1.3920685613182484,1.0192610933112132 L 1.0000000000000064,1.0 L 0.6079314386817645,1.0192610933112118 L 0.2196387119354941,1.076858878387077 L -0.161138709017842,1.172238657071162 L -0.5307337294603514,1.30448186995485 L -0.8855869473039828,1.4723149426065758 L -1.2222809320784016,1.6741215507898142 L -1.5375731366545757,1.9079581865490471 L -1.8284271247461845,2.1715728752538044 L -2.092041813450943,2.4624268633454127 L -2.3258784492101774,2.7777190679215855 L -2.527685057393417,3.114413052696004 L -2.6955181300451447,3.4692662705396353 L -2.827761342928834,3.8388612909821456 L -2.923141121612921,4.219638711935482 L -2.9807389066887873,4.607931438681753 L -3.0,4.999999999999996 L -2.9807389066887877,5.392068561318239 L -2.9231411216129226,5.78036128806451 L -2.827761342928836,6.161138709017846 L -2.695518130045148,6.530733729460357 L -2.527685057393421,6.885586947303989 L -2.325878449210182,7.222280932078408 L -2.0920418134509484,7.537573136654581 L -1.8284271247461907,7.82842712474619 L -1.5375731366545837,8.092041813450948 L -1.2222809320784118,8.32587844921018 L -0.8855869473039946,8.527685057393418 L -0.5307337294603647,8.695518130045144 L -0.16113870901785643,8.827761342928834 L 0.21963871193547835,8.92314112161292 L 0.6079314386817476,8.980738906688787 L 0.9999999999999886,9.0 L 1.3920685613182298,8.980738906688789 L 1.7803612880644992,8.923141121612925 L 2.161138709017835,8.82776134292884 L 2.5307337294603434,8.695518130045153 L 2.885586947303975,8.527685057393429 L 3.2222809320783927,8.325878449210192 L 3.537573136654566,8.092041813450962 L 3.8284271247461743,7.828427124746206 L 4.092041813450933,7.537573136654601 L 4.325878449210167,7.22228093207843 L 4.527685057393407,6.885586947304014 L 4.695518130045136,6.530733729460384 L 4.827761342928827,6.161138709017877 L 4.923141121612916,5.780361288064543 L 4.980738906688785,5.392068561318274 L 5.0,5.000000000000033 L 5.0,5.0 z\" /></g></g></svg>"
      ],
      "text/plain": [
       "<shapely.geometry.multipolygon.MultiPolygon at 0x7fbf98103b00>"
      ]
     },
     "execution_count": 204,
     "metadata": {},
     "output_type": "execute_result"
    }
   ],
   "source": [
    "MultiPolygon([c1,c2])"
   ]
  },
  {
   "cell_type": "markdown",
   "metadata": {},
   "source": [
    "* (OK) They interiors intersect\n",
    "* (OK) One does not contain the other \n",
    "* (X)  The dimension of the intersection (2D) is less than the dimension of the objects"
   ]
  },
  {
   "cell_type": "code",
   "execution_count": 206,
   "metadata": {},
   "outputs": [
    {
     "data": {
      "text/plain": [
       "False"
      ]
     },
     "execution_count": 206,
     "metadata": {},
     "output_type": "execute_result"
    }
   ],
   "source": [
    "c1.crosses(c2)"
   ]
  },
  {
   "cell_type": "code",
   "execution_count": 207,
   "metadata": {},
   "outputs": [
    {
     "data": {
      "image/svg+xml": [
       "<svg xmlns=\"http://www.w3.org/2000/svg\" xmlns:xlink=\"http://www.w3.org/1999/xlink\" width=\"100.0\" height=\"100.0\" viewBox=\"-0.08 -0.08 2.16 1.1600000000000001\" preserveAspectRatio=\"xMinYMin meet\"><g transform=\"matrix(1,0,0,-1,0,1.0)\"><g><path fill-rule=\"evenodd\" fill=\"#ff3333\" stroke=\"#555555\" stroke-width=\"0.0432\" opacity=\"0.6\" d=\"M 0.0,0.0 L 0.0,1.0 L 1.0,1.0 L 1.0,0.0 L 0.0,0.0 z\" /><path fill-rule=\"evenodd\" fill=\"#ff3333\" stroke=\"#555555\" stroke-width=\"0.0432\" opacity=\"0.6\" d=\"M 1.0,0.0 L 1.0,1.0 L 2.0,1.0 L 2.0,0.0 L 1.0,0.0 z\" /></g></g></svg>"
      ],
      "text/plain": [
       "<shapely.geometry.multipolygon.MultiPolygon at 0x7fbfa04afa90>"
      ]
     },
     "execution_count": 207,
     "metadata": {},
     "output_type": "execute_result"
    }
   ],
   "source": [
    "c5 = Polygon([(0,0), (0,1),(1,1),(1,0)])\n",
    "c6 = Polygon([(1,0), (1,1),(2,1),(2,0)])\n",
    "MultiPolygon([c5,c6])"
   ]
  },
  {
   "cell_type": "markdown",
   "metadata": {},
   "source": [
    "* (X) They interiors intersect\n",
    "* (OK) One does not contain the other \n",
    "* (OK)  The dimension of the intersection (2D) is less than the dimension of the objects"
   ]
  },
  {
   "cell_type": "code",
   "execution_count": 214,
   "metadata": {},
   "outputs": [
    {
     "data": {
      "text/plain": [
       "False"
      ]
     },
     "execution_count": 214,
     "metadata": {},
     "output_type": "execute_result"
    }
   ],
   "source": [
    "c5.crosses(c6)"
   ]
  },
  {
   "cell_type": "code",
   "execution_count": 223,
   "metadata": {},
   "outputs": [
    {
     "data": {
      "image/svg+xml": [
       "<svg xmlns=\"http://www.w3.org/2000/svg\" xmlns:xlink=\"http://www.w3.org/1999/xlink\" width=\"100.0\" height=\"100.0\" viewBox=\"-0.08 -0.08 2.16 2.16\" preserveAspectRatio=\"xMinYMin meet\"><g transform=\"matrix(1,0,0,-1,0,2.0)\"><g><polyline fill=\"none\" stroke=\"#66cc99\" stroke-width=\"0.0432\" points=\"0.0,0.0 2.0,2.0\" opacity=\"0.8\" /><polyline fill=\"none\" stroke=\"#66cc99\" stroke-width=\"0.0432\" points=\"2.0,0.0 0.0,2.0\" opacity=\"0.8\" /></g></g></svg>"
      ],
      "text/plain": [
       "<shapely.geometry.multilinestring.MultiLineString at 0x7fbfa01f4ac8>"
      ]
     },
     "execution_count": 223,
     "metadata": {},
     "output_type": "execute_result"
    }
   ],
   "source": [
    "l3 = LineString([(0,0),(2,2)])\n",
    "l4 = LineString([(2,0),(0,2)])\n",
    "MultiLineString([l3,l4])"
   ]
  },
  {
   "cell_type": "code",
   "execution_count": 224,
   "metadata": {},
   "outputs": [
    {
     "data": {
      "text/plain": [
       "True"
      ]
     },
     "execution_count": 224,
     "metadata": {},
     "output_type": "execute_result"
    }
   ],
   "source": [
    "l3.crosses(l4)"
   ]
  },
  {
   "cell_type": "markdown",
   "metadata": {},
   "source": [
    "### Touches\n",
    "Returns True if the objects have **at least one point in common** and **their interiors do not intersect** with any part of the other.\n",
    "\n"
   ]
  },
  {
   "cell_type": "code",
   "execution_count": 225,
   "metadata": {},
   "outputs": [
    {
     "data": {
      "image/svg+xml": [
       "<svg xmlns=\"http://www.w3.org/2000/svg\" xmlns:xlink=\"http://www.w3.org/1999/xlink\" width=\"100.0\" height=\"100.0\" viewBox=\"-0.08 -0.08 2.16 1.1600000000000001\" preserveAspectRatio=\"xMinYMin meet\"><g transform=\"matrix(1,0,0,-1,0,1.0)\"><g><path fill-rule=\"evenodd\" fill=\"#ff3333\" stroke=\"#555555\" stroke-width=\"0.0432\" opacity=\"0.6\" d=\"M 0.0,0.0 L 0.0,1.0 L 1.0,1.0 L 1.0,0.0 L 0.0,0.0 z\" /><path fill-rule=\"evenodd\" fill=\"#ff3333\" stroke=\"#555555\" stroke-width=\"0.0432\" opacity=\"0.6\" d=\"M 1.0,0.0 L 1.0,1.0 L 2.0,1.0 L 2.0,0.0 L 1.0,0.0 z\" /></g></g></svg>"
      ],
      "text/plain": [
       "<shapely.geometry.multipolygon.MultiPolygon at 0x7fbf885be3c8>"
      ]
     },
     "execution_count": 225,
     "metadata": {},
     "output_type": "execute_result"
    }
   ],
   "source": [
    "MultiPolygon([c5,c6])"
   ]
  },
  {
   "cell_type": "code",
   "execution_count": 226,
   "metadata": {},
   "outputs": [
    {
     "data": {
      "text/plain": [
       "True"
      ]
     },
     "execution_count": 226,
     "metadata": {},
     "output_type": "execute_result"
    }
   ],
   "source": [
    "c5.touches(c6)"
   ]
  }
 ],
 "metadata": {
  "kernelspec": {
   "display_name": "Python 3",
   "language": "python",
   "name": "python3"
  },
  "language_info": {
   "codemirror_mode": {
    "name": "ipython",
    "version": 3
   },
   "file_extension": ".py",
   "mimetype": "text/x-python",
   "name": "python",
   "nbconvert_exporter": "python",
   "pygments_lexer": "ipython3",
   "version": "3.7.2"
  }
 },
 "nbformat": 4,
 "nbformat_minor": 4
}
