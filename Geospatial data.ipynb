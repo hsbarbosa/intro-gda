{
 "cells": [
  {
   "cell_type": "markdown",
   "metadata": {},
   "source": [
    "# Geospatial data\n",
    "## Vector\n",
    "* Point\n",
    "* Line\n",
    "* Polygon \n",
    "\n",
    "In a geospatial context, these geometric objects have a Coordinate Reference System (CRS) associated to them. \n",
    "*  Ellipsoidal (e.g., EPSG:4326/WGS84)\n",
    "    * Unit: degree\n",
    "    * Axes: Longitude, Latitude\n",
    "*  Cartesian (e.g., EPSG:3857/Pseudo-mercator)\n",
    "    * Unit: metre\n",
    "    * Axes: Easting, Northing\n",
    "\n",
    "\n",
    "\n"
   ]
  },
  {
   "cell_type": "markdown",
   "metadata": {},
   "source": [
    "# Spatial joining"
   ]
  },
  {
   "cell_type": "code",
   "execution_count": 11,
   "metadata": {},
   "outputs": [],
   "source": [
    "lsoa = gpd.read_file(\"https://borders.ukdataservice.ac.uk/ukborders/easy_download/prebuilt/shape/England_lsoa_2011_clipped.zip\")"
   ]
  },
  {
   "cell_type": "code",
   "execution_count": null,
   "metadata": {},
   "outputs": [],
   "source": []
  }
 ],
 "metadata": {
  "kernelspec": {
   "display_name": "Python 3",
   "language": "python",
   "name": "python3"
  },
  "language_info": {
   "codemirror_mode": {
    "name": "ipython",
    "version": 3
   },
   "file_extension": ".py",
   "mimetype": "text/x-python",
   "name": "python",
   "nbconvert_exporter": "python",
   "pygments_lexer": "ipython3",
   "version": "3.7.2"
  }
 },
 "nbformat": 4,
 "nbformat_minor": 4
}
